{
  "nbformat": 4,
  "nbformat_minor": 0,
  "metadata": {
    "colab": {
      "provenance": []
    },
    "kernelspec": {
      "name": "python3",
      "display_name": "Python 3"
    },
    "language_info": {
      "name": "python"
    }
  },
  "cells": [
    {
      "cell_type": "markdown",
      "source": [
        "# Importing Libraries"
      ],
      "metadata": {
        "id": "VUhhRbw0ndUo"
      }
    },
    {
      "cell_type": "code",
      "execution_count": null,
      "metadata": {
        "colab": {
          "base_uri": "https://localhost:8080/"
        },
        "id": "su7sz55BUzPK",
        "outputId": "da885f41-1a3f-486e-88e3-3bc88a964afe"
      },
      "outputs": [
        {
          "output_type": "stream",
          "name": "stdout",
          "text": [
            "Drive already mounted at /content/drive; to attempt to forcibly remount, call drive.mount(\"/content/drive\", force_remount=True).\n"
          ]
        }
      ],
      "source": [
        "from google.colab import drive\n",
        "drive.mount('/content/drive')"
      ]
    },
    {
      "cell_type": "code",
      "source": [
        "import nltk\n",
        "nltk.download(\"punkt\")\n",
        "from nltk.corpus import stopwords\n",
        "nltk.download(\"stopwords\")"
      ],
      "metadata": {
        "colab": {
          "base_uri": "https://localhost:8080/"
        },
        "id": "WAJKyVEJWNwV",
        "outputId": "cddc993e-144f-4d5d-857d-3d8f782e028d"
      },
      "execution_count": null,
      "outputs": [
        {
          "output_type": "stream",
          "name": "stderr",
          "text": [
            "[nltk_data] Downloading package punkt to /root/nltk_data...\n",
            "[nltk_data]   Package punkt is already up-to-date!\n",
            "[nltk_data] Downloading package stopwords to /root/nltk_data...\n",
            "[nltk_data]   Package stopwords is already up-to-date!\n"
          ]
        },
        {
          "output_type": "execute_result",
          "data": {
            "text/plain": [
              "True"
            ]
          },
          "metadata": {},
          "execution_count": 25
        }
      ]
    },
    {
      "cell_type": "code",
      "source": [
        "nltk.download('omw-1.4')\n",
        "nltk.download('wordnet')"
      ],
      "metadata": {
        "colab": {
          "base_uri": "https://localhost:8080/"
        },
        "id": "R8kRpOgaWTSe",
        "outputId": "7a6b04e7-064c-48aa-aed7-d3eb17198f19"
      },
      "execution_count": null,
      "outputs": [
        {
          "output_type": "stream",
          "name": "stderr",
          "text": [
            "[nltk_data] Downloading package omw-1.4 to /root/nltk_data...\n",
            "[nltk_data]   Package omw-1.4 is already up-to-date!\n",
            "[nltk_data] Downloading package wordnet to /root/nltk_data...\n",
            "[nltk_data]   Package wordnet is already up-to-date!\n"
          ]
        },
        {
          "output_type": "execute_result",
          "data": {
            "text/plain": [
              "True"
            ]
          },
          "metadata": {},
          "execution_count": 26
        }
      ]
    },
    {
      "cell_type": "code",
      "source": [
        "import re\n",
        "tokenizer = nltk.RegexpTokenizer(r\"[A-Za-z]\\w+\")\n",
        "from nltk.stem import WordNetLemmatizer\n",
        "lemmatizer = WordNetLemmatizer()\n",
        "import pandas as pd\n",
        "from sklearn.model_selection import train_test_split"
      ],
      "metadata": {
        "id": "6eo-Tdl1WWtf"
      },
      "execution_count": null,
      "outputs": []
    },
    {
      "cell_type": "markdown",
      "source": [
        "# Loading Dataset"
      ],
      "metadata": {
        "id": "C7DVP464njky"
      }
    },
    {
      "cell_type": "code",
      "source": [
        "data = pd.read_csv('suicide.csv')\n",
        "data.head()"
      ],
      "metadata": {
        "colab": {
          "base_uri": "https://localhost:8080/",
          "height": 206
        },
        "id": "qOVW0sb5VI-3",
        "outputId": "0a6d3ca8-c200-48ac-f612-ca6e405b7b87"
      },
      "execution_count": null,
      "outputs": [
        {
          "output_type": "execute_result",
          "data": {
            "text/plain": [
              "                                                text         label\n",
              "0  I recently went through a breakup and she said...    depression\n",
              "1  I do not know how to navigate these feelings, ...    depression\n",
              "2  So I have been with my bf for 5 months , and h...    depression\n",
              "3  I am so exhausted of this. Just when I think I...  SuicideWatch\n",
              "4  I have been severly bullied since i was 5 till...    depression"
            ],
            "text/html": [
              "\n",
              "  <div id=\"df-2393a86e-693c-4fdf-9b58-e2d86f189a51\">\n",
              "    <div class=\"colab-df-container\">\n",
              "      <div>\n",
              "<style scoped>\n",
              "    .dataframe tbody tr th:only-of-type {\n",
              "        vertical-align: middle;\n",
              "    }\n",
              "\n",
              "    .dataframe tbody tr th {\n",
              "        vertical-align: top;\n",
              "    }\n",
              "\n",
              "    .dataframe thead th {\n",
              "        text-align: right;\n",
              "    }\n",
              "</style>\n",
              "<table border=\"1\" class=\"dataframe\">\n",
              "  <thead>\n",
              "    <tr style=\"text-align: right;\">\n",
              "      <th></th>\n",
              "      <th>text</th>\n",
              "      <th>label</th>\n",
              "    </tr>\n",
              "  </thead>\n",
              "  <tbody>\n",
              "    <tr>\n",
              "      <th>0</th>\n",
              "      <td>I recently went through a breakup and she said...</td>\n",
              "      <td>depression</td>\n",
              "    </tr>\n",
              "    <tr>\n",
              "      <th>1</th>\n",
              "      <td>I do not know how to navigate these feelings, ...</td>\n",
              "      <td>depression</td>\n",
              "    </tr>\n",
              "    <tr>\n",
              "      <th>2</th>\n",
              "      <td>So I have been with my bf for 5 months , and h...</td>\n",
              "      <td>depression</td>\n",
              "    </tr>\n",
              "    <tr>\n",
              "      <th>3</th>\n",
              "      <td>I am so exhausted of this. Just when I think I...</td>\n",
              "      <td>SuicideWatch</td>\n",
              "    </tr>\n",
              "    <tr>\n",
              "      <th>4</th>\n",
              "      <td>I have been severly bullied since i was 5 till...</td>\n",
              "      <td>depression</td>\n",
              "    </tr>\n",
              "  </tbody>\n",
              "</table>\n",
              "</div>\n",
              "      <button class=\"colab-df-convert\" onclick=\"convertToInteractive('df-2393a86e-693c-4fdf-9b58-e2d86f189a51')\"\n",
              "              title=\"Convert this dataframe to an interactive table.\"\n",
              "              style=\"display:none;\">\n",
              "        \n",
              "  <svg xmlns=\"http://www.w3.org/2000/svg\" height=\"24px\"viewBox=\"0 0 24 24\"\n",
              "       width=\"24px\">\n",
              "    <path d=\"M0 0h24v24H0V0z\" fill=\"none\"/>\n",
              "    <path d=\"M18.56 5.44l.94 2.06.94-2.06 2.06-.94-2.06-.94-.94-2.06-.94 2.06-2.06.94zm-11 1L8.5 8.5l.94-2.06 2.06-.94-2.06-.94L8.5 2.5l-.94 2.06-2.06.94zm10 10l.94 2.06.94-2.06 2.06-.94-2.06-.94-.94-2.06-.94 2.06-2.06.94z\"/><path d=\"M17.41 7.96l-1.37-1.37c-.4-.4-.92-.59-1.43-.59-.52 0-1.04.2-1.43.59L10.3 9.45l-7.72 7.72c-.78.78-.78 2.05 0 2.83L4 21.41c.39.39.9.59 1.41.59.51 0 1.02-.2 1.41-.59l7.78-7.78 2.81-2.81c.8-.78.8-2.07 0-2.86zM5.41 20L4 18.59l7.72-7.72 1.47 1.35L5.41 20z\"/>\n",
              "  </svg>\n",
              "      </button>\n",
              "      \n",
              "  <style>\n",
              "    .colab-df-container {\n",
              "      display:flex;\n",
              "      flex-wrap:wrap;\n",
              "      gap: 12px;\n",
              "    }\n",
              "\n",
              "    .colab-df-convert {\n",
              "      background-color: #E8F0FE;\n",
              "      border: none;\n",
              "      border-radius: 50%;\n",
              "      cursor: pointer;\n",
              "      display: none;\n",
              "      fill: #1967D2;\n",
              "      height: 32px;\n",
              "      padding: 0 0 0 0;\n",
              "      width: 32px;\n",
              "    }\n",
              "\n",
              "    .colab-df-convert:hover {\n",
              "      background-color: #E2EBFA;\n",
              "      box-shadow: 0px 1px 2px rgba(60, 64, 67, 0.3), 0px 1px 3px 1px rgba(60, 64, 67, 0.15);\n",
              "      fill: #174EA6;\n",
              "    }\n",
              "\n",
              "    [theme=dark] .colab-df-convert {\n",
              "      background-color: #3B4455;\n",
              "      fill: #D2E3FC;\n",
              "    }\n",
              "\n",
              "    [theme=dark] .colab-df-convert:hover {\n",
              "      background-color: #434B5C;\n",
              "      box-shadow: 0px 1px 3px 1px rgba(0, 0, 0, 0.15);\n",
              "      filter: drop-shadow(0px 1px 2px rgba(0, 0, 0, 0.3));\n",
              "      fill: #FFFFFF;\n",
              "    }\n",
              "  </style>\n",
              "\n",
              "      <script>\n",
              "        const buttonEl =\n",
              "          document.querySelector('#df-2393a86e-693c-4fdf-9b58-e2d86f189a51 button.colab-df-convert');\n",
              "        buttonEl.style.display =\n",
              "          google.colab.kernel.accessAllowed ? 'block' : 'none';\n",
              "\n",
              "        async function convertToInteractive(key) {\n",
              "          const element = document.querySelector('#df-2393a86e-693c-4fdf-9b58-e2d86f189a51');\n",
              "          const dataTable =\n",
              "            await google.colab.kernel.invokeFunction('convertToInteractive',\n",
              "                                                     [key], {});\n",
              "          if (!dataTable) return;\n",
              "\n",
              "          const docLinkHtml = 'Like what you see? Visit the ' +\n",
              "            '<a target=\"_blank\" href=https://colab.research.google.com/notebooks/data_table.ipynb>data table notebook</a>'\n",
              "            + ' to learn more about interactive tables.';\n",
              "          element.innerHTML = '';\n",
              "          dataTable['output_type'] = 'display_data';\n",
              "          await google.colab.output.renderOutput(dataTable, element);\n",
              "          const docLink = document.createElement('div');\n",
              "          docLink.innerHTML = docLinkHtml;\n",
              "          element.appendChild(docLink);\n",
              "        }\n",
              "      </script>\n",
              "    </div>\n",
              "  </div>\n",
              "  "
            ]
          },
          "metadata": {},
          "execution_count": 32
        }
      ]
    },
    {
      "cell_type": "code",
      "source": [
        "data['label'].value_counts()"
      ],
      "metadata": {
        "colab": {
          "base_uri": "https://localhost:8080/"
        },
        "id": "WS_w2p-OV8Cu",
        "outputId": "47611c50-00bd-415a-df25-b3a10c21ba22"
      },
      "execution_count": null,
      "outputs": [
        {
          "output_type": "execute_result",
          "data": {
            "text/plain": [
              "depression      10371\n",
              "SuicideWatch     9992\n",
              "Name: label, dtype: int64"
            ]
          },
          "metadata": {},
          "execution_count": 33
        }
      ]
    },
    {
      "cell_type": "code",
      "source": [
        "data['label'].value_counts().index.values"
      ],
      "metadata": {
        "colab": {
          "base_uri": "https://localhost:8080/"
        },
        "id": "VeeMtIGIV8nu",
        "outputId": "ce51e3e5-3251-4a78-d553-924b033e5ef4"
      },
      "execution_count": null,
      "outputs": [
        {
          "output_type": "execute_result",
          "data": {
            "text/plain": [
              "array(['depression', 'SuicideWatch'], dtype=object)"
            ]
          },
          "metadata": {},
          "execution_count": 34
        }
      ]
    },
    {
      "cell_type": "markdown",
      "source": [
        "# Dataset Preprocessing"
      ],
      "metadata": {
        "id": "IedpHzIKnsEK"
      }
    },
    {
      "cell_type": "code",
      "source": [
        "data = data.dropna()\n",
        "data.info()"
      ],
      "metadata": {
        "colab": {
          "base_uri": "https://localhost:8080/"
        },
        "id": "e-N1cOnFWFNF",
        "outputId": "0d7c1673-11d0-49ab-f54b-2761ce46d314"
      },
      "execution_count": null,
      "outputs": [
        {
          "output_type": "stream",
          "name": "stdout",
          "text": [
            "<class 'pandas.core.frame.DataFrame'>\n",
            "Int64Index: 20363 entries, 0 to 20364\n",
            "Data columns (total 2 columns):\n",
            " #   Column  Non-Null Count  Dtype \n",
            "---  ------  --------------  ----- \n",
            " 0   text    20363 non-null  object\n",
            " 1   label   20363 non-null  object\n",
            "dtypes: object(2)\n",
            "memory usage: 477.3+ KB\n"
          ]
        }
      ]
    },
    {
      "cell_type": "code",
      "source": [
        "data.info()"
      ],
      "metadata": {
        "colab": {
          "base_uri": "https://localhost:8080/"
        },
        "id": "PDYzHHacWAYJ",
        "outputId": "1bbea350-1989-47a4-8a1f-48d9d31dada7"
      },
      "execution_count": null,
      "outputs": [
        {
          "output_type": "stream",
          "name": "stdout",
          "text": [
            "<class 'pandas.core.frame.DataFrame'>\n",
            "Int64Index: 20363 entries, 0 to 20364\n",
            "Data columns (total 2 columns):\n",
            " #   Column  Non-Null Count  Dtype \n",
            "---  ------  --------------  ----- \n",
            " 0   text    20363 non-null  object\n",
            " 1   label   20363 non-null  object\n",
            "dtypes: object(2)\n",
            "memory usage: 477.3+ KB\n"
          ]
        }
      ]
    },
    {
      "cell_type": "code",
      "source": [
        "data['label'] = data['label'].replace('depression', 0)\n",
        "data['label'] = data['label'].replace('SuicideWatch', 1)"
      ],
      "metadata": {
        "colab": {
          "base_uri": "https://localhost:8080/"
        },
        "id": "DnNwJEzmVJBE",
        "outputId": "cae32873-9ac4-49e1-fbd6-d7e3ba7d99ac"
      },
      "execution_count": null,
      "outputs": [
        {
          "output_type": "stream",
          "name": "stderr",
          "text": [
            "<ipython-input-37-aabd6df7d1e5>:1: SettingWithCopyWarning: \n",
            "A value is trying to be set on a copy of a slice from a DataFrame.\n",
            "Try using .loc[row_indexer,col_indexer] = value instead\n",
            "\n",
            "See the caveats in the documentation: https://pandas.pydata.org/pandas-docs/stable/user_guide/indexing.html#returning-a-view-versus-a-copy\n",
            "  data['label'] = data['label'].replace('depression', 0)\n",
            "<ipython-input-37-aabd6df7d1e5>:2: SettingWithCopyWarning: \n",
            "A value is trying to be set on a copy of a slice from a DataFrame.\n",
            "Try using .loc[row_indexer,col_indexer] = value instead\n",
            "\n",
            "See the caveats in the documentation: https://pandas.pydata.org/pandas-docs/stable/user_guide/indexing.html#returning-a-view-versus-a-copy\n",
            "  data['label'] = data['label'].replace('SuicideWatch', 1)\n"
          ]
        }
      ]
    },
    {
      "cell_type": "code",
      "source": [
        "data.head()"
      ],
      "metadata": {
        "colab": {
          "base_uri": "https://localhost:8080/",
          "height": 206
        },
        "id": "IzZbLfwIVJDZ",
        "outputId": "cf8fb040-a691-4c40-8230-018aa920d58d"
      },
      "execution_count": null,
      "outputs": [
        {
          "output_type": "execute_result",
          "data": {
            "text/plain": [
              "                                                text  label\n",
              "0  I recently went through a breakup and she said...      0\n",
              "1  I do not know how to navigate these feelings, ...      0\n",
              "2  So I have been with my bf for 5 months , and h...      0\n",
              "3  I am so exhausted of this. Just when I think I...      1\n",
              "4  I have been severly bullied since i was 5 till...      0"
            ],
            "text/html": [
              "\n",
              "  <div id=\"df-24c1a1ea-c79f-4805-8ed1-93d5725b5ecb\">\n",
              "    <div class=\"colab-df-container\">\n",
              "      <div>\n",
              "<style scoped>\n",
              "    .dataframe tbody tr th:only-of-type {\n",
              "        vertical-align: middle;\n",
              "    }\n",
              "\n",
              "    .dataframe tbody tr th {\n",
              "        vertical-align: top;\n",
              "    }\n",
              "\n",
              "    .dataframe thead th {\n",
              "        text-align: right;\n",
              "    }\n",
              "</style>\n",
              "<table border=\"1\" class=\"dataframe\">\n",
              "  <thead>\n",
              "    <tr style=\"text-align: right;\">\n",
              "      <th></th>\n",
              "      <th>text</th>\n",
              "      <th>label</th>\n",
              "    </tr>\n",
              "  </thead>\n",
              "  <tbody>\n",
              "    <tr>\n",
              "      <th>0</th>\n",
              "      <td>I recently went through a breakup and she said...</td>\n",
              "      <td>0</td>\n",
              "    </tr>\n",
              "    <tr>\n",
              "      <th>1</th>\n",
              "      <td>I do not know how to navigate these feelings, ...</td>\n",
              "      <td>0</td>\n",
              "    </tr>\n",
              "    <tr>\n",
              "      <th>2</th>\n",
              "      <td>So I have been with my bf for 5 months , and h...</td>\n",
              "      <td>0</td>\n",
              "    </tr>\n",
              "    <tr>\n",
              "      <th>3</th>\n",
              "      <td>I am so exhausted of this. Just when I think I...</td>\n",
              "      <td>1</td>\n",
              "    </tr>\n",
              "    <tr>\n",
              "      <th>4</th>\n",
              "      <td>I have been severly bullied since i was 5 till...</td>\n",
              "      <td>0</td>\n",
              "    </tr>\n",
              "  </tbody>\n",
              "</table>\n",
              "</div>\n",
              "      <button class=\"colab-df-convert\" onclick=\"convertToInteractive('df-24c1a1ea-c79f-4805-8ed1-93d5725b5ecb')\"\n",
              "              title=\"Convert this dataframe to an interactive table.\"\n",
              "              style=\"display:none;\">\n",
              "        \n",
              "  <svg xmlns=\"http://www.w3.org/2000/svg\" height=\"24px\"viewBox=\"0 0 24 24\"\n",
              "       width=\"24px\">\n",
              "    <path d=\"M0 0h24v24H0V0z\" fill=\"none\"/>\n",
              "    <path d=\"M18.56 5.44l.94 2.06.94-2.06 2.06-.94-2.06-.94-.94-2.06-.94 2.06-2.06.94zm-11 1L8.5 8.5l.94-2.06 2.06-.94-2.06-.94L8.5 2.5l-.94 2.06-2.06.94zm10 10l.94 2.06.94-2.06 2.06-.94-2.06-.94-.94-2.06-.94 2.06-2.06.94z\"/><path d=\"M17.41 7.96l-1.37-1.37c-.4-.4-.92-.59-1.43-.59-.52 0-1.04.2-1.43.59L10.3 9.45l-7.72 7.72c-.78.78-.78 2.05 0 2.83L4 21.41c.39.39.9.59 1.41.59.51 0 1.02-.2 1.41-.59l7.78-7.78 2.81-2.81c.8-.78.8-2.07 0-2.86zM5.41 20L4 18.59l7.72-7.72 1.47 1.35L5.41 20z\"/>\n",
              "  </svg>\n",
              "      </button>\n",
              "      \n",
              "  <style>\n",
              "    .colab-df-container {\n",
              "      display:flex;\n",
              "      flex-wrap:wrap;\n",
              "      gap: 12px;\n",
              "    }\n",
              "\n",
              "    .colab-df-convert {\n",
              "      background-color: #E8F0FE;\n",
              "      border: none;\n",
              "      border-radius: 50%;\n",
              "      cursor: pointer;\n",
              "      display: none;\n",
              "      fill: #1967D2;\n",
              "      height: 32px;\n",
              "      padding: 0 0 0 0;\n",
              "      width: 32px;\n",
              "    }\n",
              "\n",
              "    .colab-df-convert:hover {\n",
              "      background-color: #E2EBFA;\n",
              "      box-shadow: 0px 1px 2px rgba(60, 64, 67, 0.3), 0px 1px 3px 1px rgba(60, 64, 67, 0.15);\n",
              "      fill: #174EA6;\n",
              "    }\n",
              "\n",
              "    [theme=dark] .colab-df-convert {\n",
              "      background-color: #3B4455;\n",
              "      fill: #D2E3FC;\n",
              "    }\n",
              "\n",
              "    [theme=dark] .colab-df-convert:hover {\n",
              "      background-color: #434B5C;\n",
              "      box-shadow: 0px 1px 3px 1px rgba(0, 0, 0, 0.15);\n",
              "      filter: drop-shadow(0px 1px 2px rgba(0, 0, 0, 0.3));\n",
              "      fill: #FFFFFF;\n",
              "    }\n",
              "  </style>\n",
              "\n",
              "      <script>\n",
              "        const buttonEl =\n",
              "          document.querySelector('#df-24c1a1ea-c79f-4805-8ed1-93d5725b5ecb button.colab-df-convert');\n",
              "        buttonEl.style.display =\n",
              "          google.colab.kernel.accessAllowed ? 'block' : 'none';\n",
              "\n",
              "        async function convertToInteractive(key) {\n",
              "          const element = document.querySelector('#df-24c1a1ea-c79f-4805-8ed1-93d5725b5ecb');\n",
              "          const dataTable =\n",
              "            await google.colab.kernel.invokeFunction('convertToInteractive',\n",
              "                                                     [key], {});\n",
              "          if (!dataTable) return;\n",
              "\n",
              "          const docLinkHtml = 'Like what you see? Visit the ' +\n",
              "            '<a target=\"_blank\" href=https://colab.research.google.com/notebooks/data_table.ipynb>data table notebook</a>'\n",
              "            + ' to learn more about interactive tables.';\n",
              "          element.innerHTML = '';\n",
              "          dataTable['output_type'] = 'display_data';\n",
              "          await google.colab.output.renderOutput(dataTable, element);\n",
              "          const docLink = document.createElement('div');\n",
              "          docLink.innerHTML = docLinkHtml;\n",
              "          element.appendChild(docLink);\n",
              "        }\n",
              "      </script>\n",
              "    </div>\n",
              "  </div>\n",
              "  "
            ]
          },
          "metadata": {},
          "execution_count": 38
        }
      ]
    },
    {
      "cell_type": "code",
      "source": [
        "data = data[data['text'].apply(lambda x: len(x.split())<=100)]\n",
        "data.reset_index(drop=True, inplace=True)"
      ],
      "metadata": {
        "id": "94laGKNv9VzO"
      },
      "execution_count": null,
      "outputs": []
    },
    {
      "cell_type": "code",
      "source": [
        "data['label'].value_counts()\n"
      ],
      "metadata": {
        "colab": {
          "base_uri": "https://localhost:8080/"
        },
        "id": "FY8JoET29bh2",
        "outputId": "5c5c89ce-4537-46ec-ca95-41c82b7e4686"
      },
      "execution_count": null,
      "outputs": [
        {
          "output_type": "execute_result",
          "data": {
            "text/plain": [
              "1    5311\n",
              "0    4533\n",
              "Name: label, dtype: int64"
            ]
          },
          "metadata": {},
          "execution_count": 44
        }
      ]
    },
    {
      "cell_type": "code",
      "source": [
        "for i in range(data.shape[0]):\n",
        "    tokens = tokenizer.tokenize(data.iat[i,0])\n",
        "    lowercased_tokens = [t.lower() for t in tokens]\n",
        "    lemmatized_tokens = [lemmatizer.lemmatize(t) for t in lowercased_tokens]\n",
        "    token_update = [word for word in lemmatized_tokens if not word in stopwords.words()]\n",
        "    data.iat[i,0] = (\" \").join(token_update)\n",
        "    if i%50 == 0:\n",
        "      print(i,\" \")\n",
        "data.head()"
      ],
      "metadata": {
        "colab": {
          "base_uri": "https://localhost:8080/",
          "height": 1000
        },
        "id": "PrtJHW7TVJFs",
        "outputId": "96776990-079d-4a2b-d49f-7cf486259cb8"
      },
      "execution_count": null,
      "outputs": [
        {
          "output_type": "stream",
          "name": "stdout",
          "text": [
            "0  \n",
            "50  \n",
            "100  \n",
            "150  \n",
            "200  \n",
            "250  \n",
            "300  \n",
            "350  \n",
            "400  \n",
            "450  \n",
            "500  \n",
            "550  \n",
            "600  \n",
            "650  \n",
            "700  \n",
            "750  \n",
            "800  \n",
            "850  \n",
            "900  \n",
            "950  \n",
            "1000  \n",
            "1050  \n",
            "1100  \n",
            "1150  \n",
            "1200  \n",
            "1250  \n",
            "1300  \n",
            "1350  \n",
            "1400  \n",
            "1450  \n",
            "1500  \n",
            "1550  \n",
            "1600  \n",
            "1650  \n",
            "1700  \n",
            "1750  \n",
            "1800  \n",
            "1850  \n",
            "1900  \n",
            "1950  \n",
            "2000  \n",
            "2050  \n",
            "2100  \n",
            "2150  \n",
            "2200  \n",
            "2250  \n",
            "2300  \n",
            "2350  \n",
            "2400  \n",
            "2450  \n",
            "2500  \n",
            "2550  \n",
            "2600  \n",
            "2650  \n",
            "2700  \n",
            "2750  \n",
            "2800  \n",
            "2850  \n",
            "2900  \n",
            "2950  \n",
            "3000  \n",
            "3050  \n",
            "3100  \n",
            "3150  \n",
            "3200  \n",
            "3250  \n",
            "3300  \n",
            "3350  \n",
            "3400  \n",
            "3450  \n",
            "3500  \n",
            "3550  \n",
            "3600  \n",
            "3650  \n",
            "3700  \n",
            "3750  \n",
            "3800  \n",
            "3850  \n",
            "3900  \n",
            "3950  \n",
            "4000  \n",
            "4050  \n",
            "4100  \n",
            "4150  \n",
            "4200  \n",
            "4250  \n",
            "4300  \n",
            "4350  \n",
            "4400  \n",
            "4450  \n",
            "4500  \n",
            "4550  \n",
            "4600  \n",
            "4650  \n",
            "4700  \n",
            "4750  \n",
            "4800  \n",
            "4850  \n",
            "4900  \n",
            "4950  \n",
            "5000  \n",
            "5050  \n",
            "5100  \n",
            "5150  \n",
            "5200  \n",
            "5250  \n",
            "5300  \n",
            "5350  \n",
            "5400  \n",
            "5450  \n",
            "5500  \n",
            "5550  \n",
            "5600  \n",
            "5650  \n",
            "5700  \n",
            "5750  \n",
            "5800  \n",
            "5850  \n",
            "5900  \n",
            "5950  \n",
            "6000  \n",
            "6050  \n",
            "6100  \n",
            "6150  \n",
            "6200  \n",
            "6250  \n",
            "6300  \n",
            "6350  \n",
            "6400  \n",
            "6450  \n",
            "6500  \n",
            "6550  \n",
            "6600  \n",
            "6650  \n",
            "6700  \n",
            "6750  \n",
            "6800  \n",
            "6850  \n",
            "6900  \n",
            "6950  \n",
            "7000  \n",
            "7050  \n",
            "7100  \n",
            "7150  \n",
            "7200  \n",
            "7250  \n",
            "7300  \n",
            "7350  \n",
            "7400  \n",
            "7450  \n",
            "7500  \n",
            "7550  \n",
            "7600  \n",
            "7650  \n",
            "7700  \n",
            "7750  \n",
            "7800  \n",
            "7850  \n",
            "7900  \n",
            "7950  \n",
            "8000  \n",
            "8050  \n",
            "8100  \n",
            "8150  \n",
            "8200  \n",
            "8250  \n",
            "8300  \n",
            "8350  \n",
            "8400  \n",
            "8450  \n",
            "8500  \n",
            "8550  \n",
            "8600  \n",
            "8650  \n",
            "8700  \n",
            "8750  \n",
            "8800  \n",
            "8850  \n",
            "8900  \n",
            "8950  \n",
            "9000  \n",
            "9050  \n",
            "9100  \n",
            "9150  \n",
            "9200  \n",
            "9250  \n",
            "9300  \n",
            "9350  \n",
            "9400  \n",
            "9450  \n",
            "9500  \n",
            "9550  \n",
            "9600  \n",
            "9650  \n",
            "9700  \n",
            "9750  \n",
            "9800  \n"
          ]
        },
        {
          "output_type": "execute_result",
          "data": {
            "text/plain": [
              "                                                text  label\n",
              "0  mom made camp hate hate day time midnight call...      0\n",
              "1  idea simple healthy meal make feel depressed s...      0\n",
              "2  looming corner back wave moon hear silence fee...      1\n",
              "3  foodand judged weird view delusional jail life...      1\n",
              "4  stuck loop ruminating overthinking connect per...      0"
            ],
            "text/html": [
              "\n",
              "  <div id=\"df-270c7f51-16b1-444e-9a93-f51ac6f9edf9\">\n",
              "    <div class=\"colab-df-container\">\n",
              "      <div>\n",
              "<style scoped>\n",
              "    .dataframe tbody tr th:only-of-type {\n",
              "        vertical-align: middle;\n",
              "    }\n",
              "\n",
              "    .dataframe tbody tr th {\n",
              "        vertical-align: top;\n",
              "    }\n",
              "\n",
              "    .dataframe thead th {\n",
              "        text-align: right;\n",
              "    }\n",
              "</style>\n",
              "<table border=\"1\" class=\"dataframe\">\n",
              "  <thead>\n",
              "    <tr style=\"text-align: right;\">\n",
              "      <th></th>\n",
              "      <th>text</th>\n",
              "      <th>label</th>\n",
              "    </tr>\n",
              "  </thead>\n",
              "  <tbody>\n",
              "    <tr>\n",
              "      <th>0</th>\n",
              "      <td>mom made camp hate hate day time midnight call...</td>\n",
              "      <td>0</td>\n",
              "    </tr>\n",
              "    <tr>\n",
              "      <th>1</th>\n",
              "      <td>idea simple healthy meal make feel depressed s...</td>\n",
              "      <td>0</td>\n",
              "    </tr>\n",
              "    <tr>\n",
              "      <th>2</th>\n",
              "      <td>looming corner back wave moon hear silence fee...</td>\n",
              "      <td>1</td>\n",
              "    </tr>\n",
              "    <tr>\n",
              "      <th>3</th>\n",
              "      <td>foodand judged weird view delusional jail life...</td>\n",
              "      <td>1</td>\n",
              "    </tr>\n",
              "    <tr>\n",
              "      <th>4</th>\n",
              "      <td>stuck loop ruminating overthinking connect per...</td>\n",
              "      <td>0</td>\n",
              "    </tr>\n",
              "  </tbody>\n",
              "</table>\n",
              "</div>\n",
              "      <button class=\"colab-df-convert\" onclick=\"convertToInteractive('df-270c7f51-16b1-444e-9a93-f51ac6f9edf9')\"\n",
              "              title=\"Convert this dataframe to an interactive table.\"\n",
              "              style=\"display:none;\">\n",
              "        \n",
              "  <svg xmlns=\"http://www.w3.org/2000/svg\" height=\"24px\"viewBox=\"0 0 24 24\"\n",
              "       width=\"24px\">\n",
              "    <path d=\"M0 0h24v24H0V0z\" fill=\"none\"/>\n",
              "    <path d=\"M18.56 5.44l.94 2.06.94-2.06 2.06-.94-2.06-.94-.94-2.06-.94 2.06-2.06.94zm-11 1L8.5 8.5l.94-2.06 2.06-.94-2.06-.94L8.5 2.5l-.94 2.06-2.06.94zm10 10l.94 2.06.94-2.06 2.06-.94-2.06-.94-.94-2.06-.94 2.06-2.06.94z\"/><path d=\"M17.41 7.96l-1.37-1.37c-.4-.4-.92-.59-1.43-.59-.52 0-1.04.2-1.43.59L10.3 9.45l-7.72 7.72c-.78.78-.78 2.05 0 2.83L4 21.41c.39.39.9.59 1.41.59.51 0 1.02-.2 1.41-.59l7.78-7.78 2.81-2.81c.8-.78.8-2.07 0-2.86zM5.41 20L4 18.59l7.72-7.72 1.47 1.35L5.41 20z\"/>\n",
              "  </svg>\n",
              "      </button>\n",
              "      \n",
              "  <style>\n",
              "    .colab-df-container {\n",
              "      display:flex;\n",
              "      flex-wrap:wrap;\n",
              "      gap: 12px;\n",
              "    }\n",
              "\n",
              "    .colab-df-convert {\n",
              "      background-color: #E8F0FE;\n",
              "      border: none;\n",
              "      border-radius: 50%;\n",
              "      cursor: pointer;\n",
              "      display: none;\n",
              "      fill: #1967D2;\n",
              "      height: 32px;\n",
              "      padding: 0 0 0 0;\n",
              "      width: 32px;\n",
              "    }\n",
              "\n",
              "    .colab-df-convert:hover {\n",
              "      background-color: #E2EBFA;\n",
              "      box-shadow: 0px 1px 2px rgba(60, 64, 67, 0.3), 0px 1px 3px 1px rgba(60, 64, 67, 0.15);\n",
              "      fill: #174EA6;\n",
              "    }\n",
              "\n",
              "    [theme=dark] .colab-df-convert {\n",
              "      background-color: #3B4455;\n",
              "      fill: #D2E3FC;\n",
              "    }\n",
              "\n",
              "    [theme=dark] .colab-df-convert:hover {\n",
              "      background-color: #434B5C;\n",
              "      box-shadow: 0px 1px 3px 1px rgba(0, 0, 0, 0.15);\n",
              "      filter: drop-shadow(0px 1px 2px rgba(0, 0, 0, 0.3));\n",
              "      fill: #FFFFFF;\n",
              "    }\n",
              "  </style>\n",
              "\n",
              "      <script>\n",
              "        const buttonEl =\n",
              "          document.querySelector('#df-270c7f51-16b1-444e-9a93-f51ac6f9edf9 button.colab-df-convert');\n",
              "        buttonEl.style.display =\n",
              "          google.colab.kernel.accessAllowed ? 'block' : 'none';\n",
              "\n",
              "        async function convertToInteractive(key) {\n",
              "          const element = document.querySelector('#df-270c7f51-16b1-444e-9a93-f51ac6f9edf9');\n",
              "          const dataTable =\n",
              "            await google.colab.kernel.invokeFunction('convertToInteractive',\n",
              "                                                     [key], {});\n",
              "          if (!dataTable) return;\n",
              "\n",
              "          const docLinkHtml = 'Like what you see? Visit the ' +\n",
              "            '<a target=\"_blank\" href=https://colab.research.google.com/notebooks/data_table.ipynb>data table notebook</a>'\n",
              "            + ' to learn more about interactive tables.';\n",
              "          element.innerHTML = '';\n",
              "          dataTable['output_type'] = 'display_data';\n",
              "          await google.colab.output.renderOutput(dataTable, element);\n",
              "          const docLink = document.createElement('div');\n",
              "          docLink.innerHTML = docLinkHtml;\n",
              "          element.appendChild(docLink);\n",
              "        }\n",
              "      </script>\n",
              "    </div>\n",
              "  </div>\n",
              "  "
            ]
          },
          "metadata": {},
          "execution_count": 45
        }
      ]
    },
    {
      "cell_type": "markdown",
      "source": [
        "# Saving Preprocessed Data"
      ],
      "metadata": {
        "id": "ekmtyiUCn9Hv"
      }
    },
    {
      "cell_type": "code",
      "source": [
        "data.to_csv('drive/My Drive/clean_text.csv')"
      ],
      "metadata": {
        "id": "tuAeIOicVJIJ"
      },
      "execution_count": null,
      "outputs": []
    },
    {
      "cell_type": "markdown",
      "source": [
        "# Importing Libraries"
      ],
      "metadata": {
        "id": "N7ShORBAoHWt"
      }
    },
    {
      "cell_type": "code",
      "source": [
        "from sklearn.model_selection import train_test_split"
      ],
      "metadata": {
        "id": "ol_Mhg8qIEwc"
      },
      "execution_count": null,
      "outputs": []
    },
    {
      "cell_type": "code",
      "source": [
        "import keras\n",
        "import tensorflow as tf\n",
        "from tensorflow.keras.models import Sequential\n",
        "from tensorflow.keras.layers import LSTM, Dense, Embedding, Dropout, Bidirectional\n",
        "from tensorflow.keras.preprocessing.text import Tokenizer\n",
        "from tensorflow.keras.preprocessing.sequence import pad_sequences"
      ],
      "metadata": {
        "id": "_kfiMiPeVJPL"
      },
      "execution_count": null,
      "outputs": []
    },
    {
      "cell_type": "code",
      "source": [
        "import torch\n",
        "import torch.nn as nn\n",
        "import torch.nn.functional as F\n",
        "import torch.optim as optim\n",
        "from torch.utils.data import Dataset, TensorDataset, DataLoader, RandomSampler, SequentialSampler"
      ],
      "metadata": {
        "id": "OQJdFeABH0bv"
      },
      "execution_count": null,
      "outputs": []
    },
    {
      "cell_type": "code",
      "source": [
        "!pip install gensim\n"
      ],
      "metadata": {
        "colab": {
          "base_uri": "https://localhost:8080/"
        },
        "id": "AjTRM6YrVJV6",
        "outputId": "4ee8c699-ac75-499d-9db8-144452d8e099"
      },
      "execution_count": null,
      "outputs": [
        {
          "output_type": "stream",
          "name": "stdout",
          "text": [
            "Looking in indexes: https://pypi.org/simple, https://us-python.pkg.dev/colab-wheels/public/simple/\n",
            "Requirement already satisfied: gensim in /usr/local/lib/python3.10/dist-packages (4.3.1)\n",
            "Requirement already satisfied: numpy>=1.18.5 in /usr/local/lib/python3.10/dist-packages (from gensim) (1.22.4)\n",
            "Requirement already satisfied: smart-open>=1.8.1 in /usr/local/lib/python3.10/dist-packages (from gensim) (6.3.0)\n",
            "Requirement already satisfied: scipy>=1.7.0 in /usr/local/lib/python3.10/dist-packages (from gensim) (1.10.1)\n"
          ]
        }
      ]
    },
    {
      "cell_type": "code",
      "source": [
        "import numpy as np"
      ],
      "metadata": {
        "id": "jmt9HEiaH66N"
      },
      "execution_count": null,
      "outputs": []
    },
    {
      "cell_type": "code",
      "source": [
        "from nltk.tokenize import sent_tokenize, word_tokenize\n",
        "import gensim\n",
        "from gensim.models import Word2Vec"
      ],
      "metadata": {
        "id": "qgxbF63BVJYN"
      },
      "execution_count": null,
      "outputs": []
    },
    {
      "cell_type": "code",
      "source": [
        "from collections import Counter\n"
      ],
      "metadata": {
        "id": "20BGnIjqHIEa"
      },
      "execution_count": null,
      "outputs": []
    },
    {
      "cell_type": "code",
      "source": [
        "import matplotlib.pyplot as plt"
      ],
      "metadata": {
        "id": "oExpLMlxmoFH"
      },
      "execution_count": null,
      "outputs": []
    },
    {
      "cell_type": "code",
      "source": [
        "EPOCHS = 5\n",
        "BATCH_SIZE = 32\n",
        "LEARNING_RATE = 0.001\n",
        "SEED = 0"
      ],
      "metadata": {
        "id": "OdCnx4o-VJKc"
      },
      "execution_count": null,
      "outputs": []
    },
    {
      "cell_type": "markdown",
      "source": [
        "# Train-Test Split"
      ],
      "metadata": {
        "id": "thaNTiSZoQ7d"
      }
    },
    {
      "cell_type": "code",
      "source": [
        "train_text, temp_text, train_labels, temp_labels = train_test_split(data['text'], data['label'],\n",
        "                                                                    random_state=SEED,\n",
        "                                                                    test_size=0.2,\n",
        "                                                                    stratify=data['label'])\n",
        "\n",
        "val_text, test_text, val_labels, test_labels = train_test_split(temp_text, temp_labels,\n",
        "                                                                random_state=SEED,\n",
        "                                                                test_size=0.5,\n",
        "                                                                stratify=temp_labels)"
      ],
      "metadata": {
        "id": "usiIto_aVJMw"
      },
      "execution_count": null,
      "outputs": []
    },
    {
      "cell_type": "markdown",
      "source": [
        "# Word Embedding"
      ],
      "metadata": {
        "id": "e8EjEC-mobMq"
      }
    },
    {
      "cell_type": "code",
      "source": [
        "tokenizer = Tokenizer()\n",
        "tokenizer.fit_on_texts(train_text)\n",
        "vocab_size = len(tokenizer.word_index) + 1"
      ],
      "metadata": {
        "id": "NlwmesS0VJRa"
      },
      "execution_count": null,
      "outputs": []
    },
    {
      "cell_type": "code",
      "source": [
        "vocab_size\n"
      ],
      "metadata": {
        "colab": {
          "base_uri": "https://localhost:8080/"
        },
        "id": "O5MvBadRVJTl",
        "outputId": "57790c6f-3bb3-46a6-9938-f1064b11f68d"
      },
      "execution_count": null,
      "outputs": [
        {
          "output_type": "execute_result",
          "data": {
            "text/plain": [
              "10498"
            ]
          },
          "metadata": {},
          "execution_count": 55
        }
      ]
    },
    {
      "cell_type": "code",
      "source": [
        "vocab = Counter()\n",
        "tokens_list = [(s.split()) for s in train_text]\n",
        "for i in tokens_list:\n",
        "  vocab.update(i)\n",
        "min_occurance = 2\n",
        "tokens = [k for k,c in vocab.items() if c >= min_occurance]\n",
        "print(len(tokens))"
      ],
      "metadata": {
        "colab": {
          "base_uri": "https://localhost:8080/"
        },
        "id": "p5VgsvhNHIGt",
        "outputId": "be27d70a-55ae-4654-c5e2-a2346385a837"
      },
      "execution_count": null,
      "outputs": [
        {
          "output_type": "stream",
          "name": "stdout",
          "text": [
            "5296\n"
          ]
        }
      ]
    },
    {
      "cell_type": "code",
      "source": [
        "def save_list(lines, filename):\n",
        "\tdata = '\\n'.join(lines)\n",
        "\tfile = open(filename, 'w')\n",
        "\tfile.write(data)\n",
        "\tfile.close()\n",
        " \n",
        "save_list(vocab, 'vocab.txt')"
      ],
      "metadata": {
        "id": "XPs9lE2VHIJF"
      },
      "execution_count": null,
      "outputs": []
    },
    {
      "cell_type": "code",
      "source": [
        "def clean_line(line, vocab):\n",
        "  tokens = line.split()\n",
        "  tokens_clean = [w for w in tokens if w in vocab]\n",
        "  return [tokens_clean]\n",
        "\n",
        "def process_lines(data, vocab):\n",
        "  lines = list()\n",
        "  for i in data:\n",
        "    line = clean_line(i, vocab)\n",
        "    lines += line\n",
        "  return lines"
      ],
      "metadata": {
        "id": "qhTfxXzIHILX"
      },
      "execution_count": null,
      "outputs": []
    },
    {
      "cell_type": "code",
      "source": [
        "train_clean = process_lines(train_text, vocab)\n",
        "test_clean = process_lines(test_text, vocab)"
      ],
      "metadata": {
        "id": "83_zna47HIO3"
      },
      "execution_count": null,
      "outputs": []
    },
    {
      "cell_type": "code",
      "source": [
        "model = Word2Vec(vector_size=100, window=3, min_count=2, epochs=18, seed=SEED)"
      ],
      "metadata": {
        "id": "HFrpu2dbVJab"
      },
      "execution_count": null,
      "outputs": []
    },
    {
      "cell_type": "code",
      "source": [
        "model.build_vocab(train_clean, progress_per=200)"
      ],
      "metadata": {
        "id": "aUqhKW9EVJeA"
      },
      "execution_count": null,
      "outputs": []
    },
    {
      "cell_type": "code",
      "source": [
        "model.train(train_clean, total_examples=model.corpus_count, epochs=EPOCHS,report_delay=1)"
      ],
      "metadata": {
        "colab": {
          "base_uri": "https://localhost:8080/"
        },
        "id": "1vlFqgubHVj6",
        "outputId": "9d3f6d55-fbe9-4a2e-b567-f5ded3ff218c"
      },
      "execution_count": null,
      "outputs": [
        {
          "output_type": "execute_result",
          "data": {
            "text/plain": [
              "(514260, 625940)"
            ]
          },
          "metadata": {},
          "execution_count": 192
        }
      ]
    },
    {
      "cell_type": "code",
      "source": [
        "filename = 'embedding_word2vec.txt'\n",
        "model.wv.save_word2vec_format(filename, binary=False)"
      ],
      "metadata": {
        "id": "zm6kGgrXHVml"
      },
      "execution_count": null,
      "outputs": []
    },
    {
      "cell_type": "code",
      "source": [
        "model.wv.most_similar('suicide')"
      ],
      "metadata": {
        "colab": {
          "base_uri": "https://localhost:8080/"
        },
        "id": "CuJUpbRwHVpN",
        "outputId": "dadafebe-f4a4-48d8-83c1-c8c8938e2345"
      },
      "execution_count": null,
      "outputs": [
        {
          "output_type": "execute_result",
          "data": {
            "text/plain": [
              "[('hotline', 0.9986385107040405),\n",
              " ('method', 0.9986050724983215),\n",
              " ('call', 0.9985929727554321),\n",
              " ('writing', 0.9985822439193726),\n",
              " ('experience', 0.9985818266868591),\n",
              " ('painless', 0.9985805749893188),\n",
              " ('made', 0.9985700845718384),\n",
              " ('hanging', 0.9985649585723877),\n",
              " ('calling', 0.9985464215278625),\n",
              " ('train', 0.9985345005989075)]"
            ]
          },
          "metadata": {},
          "execution_count": 194
        }
      ]
    },
    {
      "cell_type": "code",
      "source": [
        "def tokenize_and_encode(text, max_length=70):\n",
        "    encoded_docs = tokenizer.texts_to_sequences(text)\n",
        "    padded_sequence = pad_sequences(encoded_docs, maxlen=max_length, padding='post')\n",
        "    return padded_sequence\n",
        "\n",
        "tokens_train = tokenize_and_encode(train_text)\n",
        "tokens_val = tokenize_and_encode(val_text)\n",
        "tokens_test = tokenize_and_encode(test_text)"
      ],
      "metadata": {
        "id": "TAwtK0a2HVsT"
      },
      "execution_count": null,
      "outputs": []
    },
    {
      "cell_type": "code",
      "source": [
        "def load_embedding(filename):\n",
        "\tfile = open(filename,'r')\n",
        "\tlines = file.readlines()[1:]\n",
        "\tfile.close()\n",
        "\tembedding = dict()\n",
        "\tfor line in lines:\n",
        "\t\tparts = line.split()\n",
        "\t\tembedding[parts[0]] = np.asarray(parts[1:], dtype='float32')\n",
        "\treturn embedding"
      ],
      "metadata": {
        "id": "lLAyOwrDHbyj"
      },
      "execution_count": null,
      "outputs": []
    },
    {
      "cell_type": "code",
      "source": [
        "def get_weight_matrix(embedding, vocab, embedding_dim):\n",
        "\tvocab_size = len(vocab) + 1\n",
        "\tweight_matrix = np.zeros((vocab_size, embedding_dim))\n",
        "\tfor word, i in vocab.items():\n",
        "\t\tweight_matrix[i] = embedding.get(word)\n",
        "\treturn weight_matrix"
      ],
      "metadata": {
        "id": "01e6W28QHb1F"
      },
      "execution_count": null,
      "outputs": []
    },
    {
      "cell_type": "code",
      "source": [
        "def create_emb_layer(weights_matrix, non_trainable=False):\n",
        "    num_embeddings, embedding_dim = weights_matrix.shape[0], weights_matrix.shape[1]\n",
        "    emb_layer = nn.Embedding(num_embeddings, embedding_dim)\n",
        "    emb_layer.load_state_dict({'weight': torch.from_numpy(weights_matrix)})\n",
        "    if non_trainable:\n",
        "        emb_layer.weight.requires_grad = False\n",
        "\n",
        "    return emb_layer, num_embeddings, embedding_dim"
      ],
      "metadata": {
        "id": "wbrnqq-UHb3d"
      },
      "execution_count": null,
      "outputs": []
    },
    {
      "cell_type": "code",
      "source": [
        "raw_embedding_word2vec = load_embedding('embedding_word2vec.txt') \n",
        "embedding_vectors_word2vec = get_weight_matrix(raw_embedding_word2vec, tokenizer.word_index, 100)\n",
        "embedding_vectors_word2vec = np.float32(embedding_vectors_word2vec)"
      ],
      "metadata": {
        "id": "CLDB6CrUHb7H"
      },
      "execution_count": null,
      "outputs": []
    },
    {
      "cell_type": "markdown",
      "source": [
        "# Model Building and Evaluation"
      ],
      "metadata": {
        "id": "xR1N-hvyoi5u"
      }
    },
    {
      "cell_type": "code",
      "source": [
        "from keras.layers import Embedding,Dense,LSTM,Bidirectional,GlobalMaxPooling1D,Input,Dropout,Conv1D,MaxPooling1D,Flatten\n"
      ],
      "metadata": {
        "id": "aLBBznAHHb_k"
      },
      "execution_count": null,
      "outputs": []
    },
    {
      "cell_type": "code",
      "source": [
        "from sklearn.metrics import classification_report"
      ],
      "metadata": {
        "id": "IbmzKgdEnzIZ"
      },
      "execution_count": null,
      "outputs": []
    },
    {
      "cell_type": "code",
      "source": [
        "from sklearn.metrics import accuracy_score, precision_score, recall_score, f1_score\n",
        " "
      ],
      "metadata": {
        "id": "Y1AC84qstISe"
      },
      "execution_count": null,
      "outputs": []
    },
    {
      "cell_type": "markdown",
      "source": [
        "# CNN Model"
      ],
      "metadata": {
        "id": "N2JNdYwYjlDk"
      }
    },
    {
      "cell_type": "code",
      "source": [
        "model = Sequential()\n",
        "model.add(Embedding(vocab_size, 100, input_length=70))\n",
        "model.add(Conv1D(filters=32, kernel_size=8, activation='relu'))\n",
        "model.add(MaxPooling1D(pool_size=2))\n",
        "model.add(Dropout(0.5))\n",
        "model.add(Flatten())\n",
        "model.add(Dense(10, activation='relu'))\n",
        "model.add(Dense(1, activation='sigmoid'))\n",
        "model.compile(optimizer='adam', loss='binary_crossentropy', metrics=['accuracy'])\n",
        "\n",
        "print(model.summary())"
      ],
      "metadata": {
        "colab": {
          "base_uri": "https://localhost:8080/"
        },
        "id": "qUnf3Mm-bhru",
        "outputId": "fb0516a5-4315-4e99-ac6d-3e861674ff16"
      },
      "execution_count": null,
      "outputs": [
        {
          "output_type": "stream",
          "name": "stdout",
          "text": [
            "Model: \"sequential_24\"\n",
            "_________________________________________________________________\n",
            " Layer (type)                Output Shape              Param #   \n",
            "=================================================================\n",
            " embedding_24 (Embedding)    (None, 70, 100)           1049800   \n",
            "                                                                 \n",
            " conv1d_1 (Conv1D)           (None, 63, 32)            25632     \n",
            "                                                                 \n",
            " max_pooling1d_1 (MaxPooling  (None, 31, 32)           0         \n",
            " 1D)                                                             \n",
            "                                                                 \n",
            " dropout_35 (Dropout)        (None, 31, 32)            0         \n",
            "                                                                 \n",
            " flatten_5 (Flatten)         (None, 992)               0         \n",
            "                                                                 \n",
            " dense_37 (Dense)            (None, 10)                9930      \n",
            "                                                                 \n",
            " dense_38 (Dense)            (None, 1)                 11        \n",
            "                                                                 \n",
            "=================================================================\n",
            "Total params: 1,085,373\n",
            "Trainable params: 1,085,373\n",
            "Non-trainable params: 0\n",
            "_________________________________________________________________\n",
            "None\n"
          ]
        }
      ]
    },
    {
      "cell_type": "code",
      "source": [
        "train=model.fit(tokens_train,train_labels,validation_data=(tokens_val,val_labels),epochs=20,batch_size=256)\n"
      ],
      "metadata": {
        "colab": {
          "base_uri": "https://localhost:8080/"
        },
        "id": "28wB-j8Ic8w3",
        "outputId": "9c25f7ad-14bb-4c03-a801-82b0be1c2424"
      },
      "execution_count": null,
      "outputs": [
        {
          "output_type": "stream",
          "name": "stdout",
          "text": [
            "Epoch 1/20\n",
            "31/31 [==============================] - 15s 420ms/step - loss: 0.6886 - accuracy: 0.5583 - val_loss: 0.6860 - val_accuracy: 0.5699\n",
            "Epoch 2/20\n",
            "31/31 [==============================] - 12s 394ms/step - loss: 0.6213 - accuracy: 0.6733 - val_loss: 0.6012 - val_accuracy: 0.6821\n",
            "Epoch 3/20\n",
            "31/31 [==============================] - 14s 433ms/step - loss: 0.4901 - accuracy: 0.7791 - val_loss: 0.6345 - val_accuracy: 0.6899\n",
            "Epoch 4/20\n",
            "31/31 [==============================] - 12s 388ms/step - loss: 0.4138 - accuracy: 0.8248 - val_loss: 0.6769 - val_accuracy: 0.6619\n",
            "Epoch 5/20\n",
            "31/31 [==============================] - 13s 402ms/step - loss: 0.3613 - accuracy: 0.8580 - val_loss: 0.8230 - val_accuracy: 0.6614\n",
            "Epoch 6/20\n",
            "31/31 [==============================] - 13s 425ms/step - loss: 0.3041 - accuracy: 0.8807 - val_loss: 0.8375 - val_accuracy: 0.6560\n",
            "Epoch 7/20\n",
            "31/31 [==============================] - 12s 401ms/step - loss: 0.2757 - accuracy: 0.8939 - val_loss: 0.8942 - val_accuracy: 0.6372\n",
            "Epoch 8/20\n",
            "31/31 [==============================] - 13s 408ms/step - loss: 0.2477 - accuracy: 0.9038 - val_loss: 1.0410 - val_accuracy: 0.6357\n",
            "Epoch 9/20\n",
            "31/31 [==============================] - 12s 401ms/step - loss: 0.2405 - accuracy: 0.9060 - val_loss: 0.9977 - val_accuracy: 0.6278\n",
            "Epoch 10/20\n",
            "31/31 [==============================] - 11s 362ms/step - loss: 0.2249 - accuracy: 0.9139 - val_loss: 1.0761 - val_accuracy: 0.6179\n",
            "Epoch 11/20\n",
            "31/31 [==============================] - 12s 366ms/step - loss: 0.2221 - accuracy: 0.9161 - val_loss: 1.2659 - val_accuracy: 0.6216\n",
            "Epoch 12/20\n",
            "31/31 [==============================] - 12s 400ms/step - loss: 0.2027 - accuracy: 0.9213 - val_loss: 1.1320 - val_accuracy: 0.6155\n",
            "Epoch 13/20\n",
            "31/31 [==============================] - 12s 404ms/step - loss: 0.1907 - accuracy: 0.9260 - val_loss: 1.5643 - val_accuracy: 0.6081\n",
            "Epoch 14/20\n",
            "31/31 [==============================] - 12s 398ms/step - loss: 0.1794 - accuracy: 0.9305 - val_loss: 1.5428 - val_accuracy: 0.6038\n",
            "Epoch 15/20\n",
            "31/31 [==============================] - 12s 395ms/step - loss: 0.1722 - accuracy: 0.9325 - val_loss: 1.5953 - val_accuracy: 0.6051\n",
            "Epoch 16/20\n",
            "31/31 [==============================] - 11s 334ms/step - loss: 0.1733 - accuracy: 0.9325 - val_loss: 1.3959 - val_accuracy: 0.6065\n",
            "Epoch 17/20\n",
            "31/31 [==============================] - 12s 393ms/step - loss: 0.1812 - accuracy: 0.9278 - val_loss: 1.6760 - val_accuracy: 0.5989\n",
            "Epoch 18/20\n",
            "31/31 [==============================] - 12s 401ms/step - loss: 0.1693 - accuracy: 0.9292 - val_loss: 1.9124 - val_accuracy: 0.5939\n",
            "Epoch 19/20\n",
            "31/31 [==============================] - 12s 402ms/step - loss: 0.1869 - accuracy: 0.9289 - val_loss: 1.4994 - val_accuracy: 0.5835\n",
            "Epoch 20/20\n",
            "31/31 [==============================] - 13s 406ms/step - loss: 0.1870 - accuracy: 0.9239 - val_loss: 1.7664 - val_accuracy: 0.6011\n"
          ]
        }
      ]
    },
    {
      "cell_type": "code",
      "source": [
        "plt.figure(figsize=(10,8))\n",
        "plt.plot(r.history['accuracy'])\n",
        "plt.plot(r.history['val_accuracy'])\n",
        "plt.title('ACCURACY CURVE',fontdict={'size':20})\n",
        "plt.show()"
      ],
      "metadata": {
        "colab": {
          "base_uri": "https://localhost:8080/",
          "height": 707
        },
        "id": "nhgYM_H-mokO",
        "outputId": "a9885366-93a0-460e-a923-51513778e157"
      },
      "execution_count": null,
      "outputs": [
        {
          "output_type": "display_data",
          "data": {
            "text/plain": [
              "<Figure size 1000x800 with 1 Axes>"
            ],
            "image/png": "[encoded data removed]"
          },
          "metadata": {}
        }
      ]
    },
    {
      "cell_type": "code",
      "source": [
        "test_predictions = (model.predict(tokens_test) > 0.5).astype(int)\n",
        "test_predictions[:,i,0] = test_predictions[:,i,0]\n",
        "from sklearn.metrics import classification_report\n",
        "print(classification_report(test_labels, test_predictions))\n",
        "test_predictions"
      ],
      "metadata": {
        "colab": {
          "base_uri": "https://localhost:8080/"
        },
        "id": "R3bPN4pcplYa",
        "outputId": "91785ee3-a91b-4970-be3b-6346dd0b4b3c"
      },
      "execution_count": null,
      "outputs": [
        {
          "output_type": "stream",
          "name": "stdout",
          "text": [
            "31/31 [==============================] - 2s 50ms/step\n",
            "              precision    recall  f1-score   support\n",
            "\n",
            "           0       0.57      0.51      0.54       454\n",
            "           1       0.62      0.67      0.64       531\n",
            "\n",
            "    accuracy                           0.60       985\n",
            "   macro avg       0.59      0.59      0.59       985\n",
            "weighted avg       0.60      0.60      0.60       985\n",
            "\n"
          ]
        },
        {
          "output_type": "execute_result",
          "data": {
            "text/plain": [
              "array([1, 0, 0, 1, 0, 1, 0, 0, 1, 1, 0, 0, 0, 1, 1, 1, 1, 1, 0, 1, 1, 1,\n",
              "       0, 1, 1, 0, 1, 1, 0, 1, 1, 0, 1, 1, 0, 1, 0, 0, 1, 0, 1, 0, 1, 0,\n",
              "       0, 0, 0, 0, 1, 1, 1, 1, 1, 1, 1, 0, 1, 1, 1, 1, 1, 1, 0, 1, 0, 1,\n",
              "       1, 1, 1, 1, 1, 0, 1, 0, 1, 0, 1, 0, 0, 0, 0, 0, 1, 1, 0, 1, 1, 1,\n",
              "       0, 1, 0, 1, 1, 1, 0, 0, 0, 1, 0, 1, 1, 1, 1, 1, 0, 1, 0, 1, 1, 0,\n",
              "       1, 0, 0, 1, 1, 1, 0, 1, 1, 0, 1, 0, 1, 0, 1, 1, 0, 1, 1, 1, 0, 0,\n",
              "       0, 1, 1, 1, 0, 0, 1, 1, 1, 1, 1, 1, 1, 0, 1, 0, 0, 1, 0, 1, 1, 1,\n",
              "       0, 1, 1, 0, 1, 0, 0, 1, 1, 1, 0, 0, 0, 0, 0, 1, 1, 1, 0, 0, 1, 0,\n",
              "       1, 1, 1, 0, 1, 0, 1, 0, 0, 1, 1, 1, 1, 0, 1, 1, 0, 1, 1, 0, 1, 0,\n",
              "       0, 1, 1, 1, 1, 1, 1, 0, 0, 0, 1, 1, 0, 1, 1, 1, 1, 1, 0, 1, 0, 0,\n",
              "       1, 1, 1, 0, 1, 1, 1, 1, 1, 1, 0, 0, 1, 1, 1, 0, 0, 0, 0, 1, 1, 1,\n",
              "       1, 1, 0, 0, 0, 0, 0, 1, 0, 0, 0, 1, 0, 1, 1, 1, 1, 0, 0, 1, 0, 1,\n",
              "       1, 1, 0, 0, 1, 1, 0, 0, 0, 1, 1, 1, 1, 0, 1, 1, 0, 1, 1, 1, 0, 1,\n",
              "       0, 1, 1, 1, 0, 1, 1, 1, 1, 1, 0, 1, 1, 1, 1, 0, 1, 1, 0, 0, 1, 1,\n",
              "       0, 1, 0, 1, 0, 1, 0, 0, 1, 0, 0, 0, 0, 1, 0, 1, 1, 0, 1, 1, 1, 1,\n",
              "       0, 1, 0, 1, 1, 1, 1, 0, 0, 1, 0, 1, 1, 0, 0, 1, 1, 1, 0, 1, 1, 0,\n",
              "       1, 1, 1, 1, 0, 1, 0, 1, 0, 1, 0, 0, 0, 0, 1, 1, 0, 1, 1, 1, 0, 1,\n",
              "       1, 1, 0, 0, 1, 0, 1, 1, 1, 1, 1, 0, 0, 0, 0, 1, 0, 1, 1, 1, 0, 1,\n",
              "       0, 1, 1, 1, 1, 0, 0, 1, 0, 0, 1, 0, 0, 1, 0, 1, 1, 1, 1, 0, 0, 0,\n",
              "       0, 0, 1, 0, 0, 0, 1, 0, 1, 1, 1, 1, 0, 0, 1, 1, 0, 1, 0, 0, 1, 1,\n",
              "       1, 1, 1, 0, 1, 1, 1, 0, 0, 0, 1, 1, 1, 1, 0, 0, 0, 1, 0, 1, 0, 0,\n",
              "       0, 1, 1, 0, 1, 1, 0, 1, 0, 1, 1, 1, 1, 1, 1, 1, 1, 1, 0, 0, 1, 1,\n",
              "       1, 0, 0, 0, 1, 1, 1, 0, 1, 1, 1, 0, 1, 0, 1, 1, 1, 0, 0, 1, 1, 1,\n",
              "       1, 1, 1, 1, 0, 1, 1, 0, 1, 0, 1, 0, 1, 0, 1, 0, 1, 1, 0, 1, 1, 1,\n",
              "       0, 0, 0, 1, 1, 1, 1, 1, 0, 0, 0, 1, 0, 1, 1, 1, 0, 0, 0, 1, 1, 0,\n",
              "       1, 1, 1, 1, 0, 1, 0, 1, 1, 1, 0, 1, 0, 1, 1, 0, 1, 1, 1, 0, 0, 0,\n",
              "       1, 0, 0, 0, 1, 1, 1, 1, 1, 1, 0, 1, 1, 1, 1, 1, 1, 1, 1, 0, 1, 0,\n",
              "       1, 1, 1, 1, 1, 0, 1, 1, 0, 1, 0, 0, 1, 1, 0, 0, 0, 1, 1, 0, 0, 0,\n",
              "       0, 0, 1, 1, 0, 0, 1, 1, 0, 0, 0, 1, 1, 1, 0, 1, 1, 1, 0, 0, 0, 1,\n",
              "       0, 1, 0, 1, 0, 1, 1, 1, 1, 1, 0, 1, 1, 0, 0, 0, 0, 1, 1, 0, 1, 1,\n",
              "       1, 1, 1, 0, 1, 1, 0, 0, 1, 0, 1, 1, 1, 0, 0, 1, 1, 0, 1, 0, 1, 0,\n",
              "       1, 1, 0, 1, 0, 0, 0, 1, 1, 0, 1, 0, 1, 0, 0, 0, 0, 1, 1, 1, 0, 1,\n",
              "       0, 1, 1, 0, 1, 1, 1, 0, 1, 1, 1, 1, 1, 1, 0, 0, 0, 1, 0, 0, 1, 1,\n",
              "       0, 0, 1, 0, 0, 0, 1, 0, 1, 0, 0, 0, 1, 0, 1, 1, 0, 0, 0, 1, 0, 1,\n",
              "       0, 1, 1, 1, 0, 1, 1, 1, 1, 0, 1, 0, 1, 1, 1, 1, 0, 1, 0, 1, 0, 0,\n",
              "       1, 0, 0, 0, 1, 1, 0, 1, 1, 0, 1, 1, 1, 1, 1, 0, 1, 1, 1, 0, 1, 1,\n",
              "       1, 1, 1, 0, 1, 0, 0, 1, 1, 1, 0, 1, 0, 0, 0, 1, 1, 0, 0, 1, 1, 1,\n",
              "       1, 1, 1, 0, 0, 1, 0, 0, 0, 1, 1, 0, 0, 0, 1, 0, 0, 0, 1, 1, 1, 0,\n",
              "       1, 1, 0, 1, 1, 0, 0, 1, 1, 0, 1, 1, 1, 0, 1, 0, 0, 0, 1, 0, 1, 0,\n",
              "       0, 1, 1, 1, 1, 0, 1, 1, 0, 0, 0, 0, 0, 0, 0, 1, 0, 0, 0, 0, 1, 1,\n",
              "       1, 0, 1, 0, 0, 1, 1, 0, 1, 0, 0, 1, 1, 1, 1, 1, 0, 1, 1, 1, 1, 1,\n",
              "       1, 1, 1, 0, 1, 0, 1, 0, 0, 1, 1, 1, 1, 0, 0, 1, 1, 1, 0, 0, 0, 1,\n",
              "       1, 0, 1, 1, 1, 1, 1, 0, 0, 0, 1, 1, 1, 1, 1, 1, 1, 1, 1, 0, 0, 0,\n",
              "       1, 1, 1, 0, 1, 0, 1, 0, 1, 1, 1, 1, 1, 0, 0, 1, 1, 1, 1, 0, 0, 1,\n",
              "       1, 0, 0, 1, 0, 0, 1, 1, 0, 0, 0, 0, 1, 1, 0, 1, 0])"
            ]
          },
          "metadata": {},
          "execution_count": 282
        }
      ]
    },
    {
      "cell_type": "markdown",
      "source": [
        "# LSTM Model"
      ],
      "metadata": {
        "id": "g6zQ6tAmkKAR"
      }
    },
    {
      "cell_type": "code",
      "source": [
        "model1 = Sequential()\n",
        "model1.add(Embedding(vocab_size, 100, input_length=70))\n",
        "model1.add(LSTM(units=100,return_sequences = True))\n",
        "model1.add(Dense(10))\n",
        "model1.add(Dense(1, activation='sigmoid'))\n",
        "model1.compile(loss='binary_crossentropy', optimizer='adam', metrics=['accuracy'])\n",
        "print(model1.summary())"
      ],
      "metadata": {
        "colab": {
          "base_uri": "https://localhost:8080/"
        },
        "id": "ARfg1CaeHcCx",
        "outputId": "7a6a2f0f-4856-4f6e-c32e-6627c4d147cd"
      },
      "execution_count": null,
      "outputs": [
        {
          "output_type": "stream",
          "name": "stdout",
          "text": [
            "Model: \"sequential_27\"\n",
            "_________________________________________________________________\n",
            " Layer (type)                Output Shape              Param #   \n",
            "=================================================================\n",
            " embedding_27 (Embedding)    (None, 70, 100)           1049800   \n",
            "                                                                 \n",
            " lstm_36 (LSTM)              (None, 70, 100)           80400     \n",
            "                                                                 \n",
            " dense_41 (Dense)            (None, 70, 10)            1010      \n",
            "                                                                 \n",
            " dense_42 (Dense)            (None, 70, 1)             11        \n",
            "                                                                 \n",
            "=================================================================\n",
            "Total params: 1,131,221\n",
            "Trainable params: 1,131,221\n",
            "Non-trainable params: 0\n",
            "_________________________________________________________________\n",
            "None\n"
          ]
        }
      ]
    },
    {
      "cell_type": "code",
      "source": [
        "train=model1.fit(tokens_train,train_labels,validation_data=(tokens_val,val_labels),epochs=20,batch_size=256)"
      ],
      "metadata": {
        "colab": {
          "base_uri": "https://localhost:8080/"
        },
        "id": "EoilFPDmHmYj",
        "outputId": "d47c7380-522a-460d-8424-f30681691482"
      },
      "execution_count": null,
      "outputs": [
        {
          "output_type": "stream",
          "name": "stdout",
          "text": [
            "Epoch 1/20\n",
            "31/31 [==============================] - 6s 157ms/step - loss: 0.6872 - accuracy: 0.5474 - val_loss: 0.6793 - val_accuracy: 0.5732\n",
            "Epoch 2/20\n",
            "31/31 [==============================] - 5s 151ms/step - loss: 0.6470 - accuracy: 0.6338 - val_loss: 0.6250 - val_accuracy: 0.6616\n",
            "Epoch 3/20\n",
            "31/31 [==============================] - 4s 117ms/step - loss: 0.5162 - accuracy: 0.7548 - val_loss: 0.6066 - val_accuracy: 0.6829\n",
            "Epoch 4/20\n",
            "31/31 [==============================] - 4s 119ms/step - loss: 0.3871 - accuracy: 0.8386 - val_loss: 0.6818 - val_accuracy: 0.6657\n",
            "Epoch 5/20\n",
            "31/31 [==============================] - 6s 189ms/step - loss: 0.2990 - accuracy: 0.8822 - val_loss: 0.8104 - val_accuracy: 0.6433\n",
            "Epoch 6/20\n",
            "31/31 [==============================] - 4s 118ms/step - loss: 0.2346 - accuracy: 0.9110 - val_loss: 0.9218 - val_accuracy: 0.6250\n",
            "Epoch 7/20\n",
            "31/31 [==============================] - 4s 119ms/step - loss: 0.1798 - accuracy: 0.9359 - val_loss: 1.0942 - val_accuracy: 0.6189\n",
            "Epoch 8/20\n",
            "31/31 [==============================] - 5s 154ms/step - loss: 0.1403 - accuracy: 0.9483 - val_loss: 1.2015 - val_accuracy: 0.6098\n",
            "Epoch 9/20\n",
            "31/31 [==============================] - 5s 152ms/step - loss: 0.1088 - accuracy: 0.9634 - val_loss: 1.3588 - val_accuracy: 0.5945\n",
            "Epoch 10/20\n",
            "31/31 [==============================] - 4s 118ms/step - loss: 0.0928 - accuracy: 0.9680 - val_loss: 1.4438 - val_accuracy: 0.5925\n",
            "Epoch 11/20\n",
            "31/31 [==============================] - 4s 117ms/step - loss: 0.0732 - accuracy: 0.9777 - val_loss: 1.5696 - val_accuracy: 0.5925\n",
            "Epoch 12/20\n",
            "31/31 [==============================] - 6s 192ms/step - loss: 0.0607 - accuracy: 0.9799 - val_loss: 1.6937 - val_accuracy: 0.6006\n",
            "Epoch 13/20\n",
            "31/31 [==============================] - 4s 119ms/step - loss: 0.0495 - accuracy: 0.9860 - val_loss: 1.7861 - val_accuracy: 0.5986\n",
            "Epoch 14/20\n",
            "31/31 [==============================] - 4s 119ms/step - loss: 0.0458 - accuracy: 0.9858 - val_loss: 1.8534 - val_accuracy: 0.5965\n",
            "Epoch 15/20\n",
            "31/31 [==============================] - 5s 163ms/step - loss: 0.0408 - accuracy: 0.9864 - val_loss: 1.9152 - val_accuracy: 0.5935\n",
            "Epoch 16/20\n",
            "31/31 [==============================] - 4s 139ms/step - loss: 0.0359 - accuracy: 0.9886 - val_loss: 2.0593 - val_accuracy: 0.6037\n",
            "Epoch 17/20\n",
            "31/31 [==============================] - 4s 117ms/step - loss: 0.0324 - accuracy: 0.9896 - val_loss: 2.0951 - val_accuracy: 0.5986\n",
            "Epoch 18/20\n",
            "31/31 [==============================] - 4s 119ms/step - loss: 0.0294 - accuracy: 0.9920 - val_loss: 2.2045 - val_accuracy: 0.5925\n",
            "Epoch 19/20\n",
            "31/31 [==============================] - 6s 192ms/step - loss: 0.0271 - accuracy: 0.9919 - val_loss: 2.2484 - val_accuracy: 0.6026\n",
            "Epoch 20/20\n",
            "31/31 [==============================] - 4s 118ms/step - loss: 0.0267 - accuracy: 0.9925 - val_loss: 2.2296 - val_accuracy: 0.5976\n"
          ]
        }
      ]
    },
    {
      "cell_type": "code",
      "source": [
        "plt.figure(figsize=(10,8))\n",
        "plt.plot(r.history['accuracy'])\n",
        "plt.plot(r.history['val_accuracy'])\n",
        "plt.title('ACCURACY CURVE',fontdict={'size':20})\n",
        "plt.show()"
      ],
      "metadata": {
        "colab": {
          "base_uri": "https://localhost:8080/",
          "height": 707
        },
        "id": "OfaXs_hxnF3B",
        "outputId": "1b9d2d75-4655-4d41-abd8-73f7f7a6e202"
      },
      "execution_count": null,
      "outputs": [
        {
          "output_type": "display_data",
          "data": {
            "text/plain": [
              "<Figure size 1000x800 with 1 Axes>"
            ],
            "image/png": "[encoded data removed]"
          },
          "metadata": {}
        }
      ]
    },
    {
      "cell_type": "code",
      "source": [
        "test_predictions = model1.predict(tokens_test)\n",
        "pred = (test_predictions.sum(axis=1)/70 > 0.5).astype(int).flatten()\n",
        "from sklearn.metrics import classification_report\n",
        "print(classification_report(test_labels, pred))\n",
        "pred.shape"
      ],
      "metadata": {
        "colab": {
          "base_uri": "https://localhost:8080/"
        },
        "id": "EDgCxJcP4z13",
        "outputId": "027a8269-9b6d-4a95-97ff-7fe24a5a251a"
      },
      "execution_count": null,
      "outputs": [
        {
          "output_type": "stream",
          "name": "stdout",
          "text": [
            "31/31 [==============================] - 1s 22ms/step\n",
            "              precision    recall  f1-score   support\n",
            "\n",
            "           0       0.59      0.53      0.56       454\n",
            "           1       0.63      0.69      0.66       531\n",
            "\n",
            "    accuracy                           0.62       985\n",
            "   macro avg       0.61      0.61      0.61       985\n",
            "weighted avg       0.61      0.62      0.61       985\n",
            "\n"
          ]
        },
        {
          "output_type": "execute_result",
          "data": {
            "text/plain": [
              "(985,)"
            ]
          },
          "metadata": {},
          "execution_count": 288
        }
      ]
    }
  ]
}