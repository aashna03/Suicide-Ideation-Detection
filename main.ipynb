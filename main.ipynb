{
 "cells": [
  {
   "cell_type": "code",
   "execution_count": 2,
   "metadata": {},
   "outputs": [],
   "source": [
    "# %%\n",
    "import re\n",
    "tokenizer = nltk.RegexpTokenizer(r\"[A-Za-z]\\w+\")\n",
    "from nltk.stem import WordNetLemmatizer\n",
    "lemmatizer = WordNetLemmatizer()\n",
    "import pandas as pd\n",
    "from sklearn.model_selection import train_test_split"
   ]
  },
  {
   "cell_type": "code",
   "execution_count": 3,
   "metadata": {},
   "outputs": [
    {
     "name": "stderr",
     "output_type": "stream",
     "text": [
      "C:\\Users\\Aashna\\AppData\\Local\\Temp\\ipykernel_16780\\871399509.py:2: DtypeWarning: Columns (0,3,4,5,6,7,8,9,10,11,12,13,14,15,16,17,18,19,20,21,22,23,24,25,26,27,28,29,30,31,32,33,34,35,36,37,38,39,40,41,42,43,44,45,46,47,48,49,50,51,52,53,54,55,56,57,58,59,60,61,62,63,64,65,66,67,68,69,70,71,72,73,74,75,76,77,78,79,80,81,82,83,84,85,86) have mixed types. Specify dtype option on import or set low_memory=False.\n",
      "  data = pd.read_csv('Suicide_Detection.csv',encoding='ISO-8859-1',on_bad_lines='skip')\n"
     ]
    },
    {
     "data": {
      "text/html": [
       "<div>\n",
       "<style scoped>\n",
       "    .dataframe tbody tr th:only-of-type {\n",
       "        vertical-align: middle;\n",
       "    }\n",
       "\n",
       "    .dataframe tbody tr th {\n",
       "        vertical-align: top;\n",
       "    }\n",
       "\n",
       "    .dataframe thead th {\n",
       "        text-align: right;\n",
       "    }\n",
       "</style>\n",
       "<table border=\"1\" class=\"dataframe\">\n",
       "  <thead>\n",
       "    <tr style=\"text-align: right;\">\n",
       "      <th></th>\n",
       "      <th>ï»¿</th>\n",
       "      <th>text</th>\n",
       "      <th>class</th>\n",
       "      <th>Unnamed: 3</th>\n",
       "      <th>Unnamed: 4</th>\n",
       "      <th>Unnamed: 5</th>\n",
       "      <th>Unnamed: 6</th>\n",
       "      <th>Unnamed: 7</th>\n",
       "      <th>Unnamed: 8</th>\n",
       "      <th>Unnamed: 9</th>\n",
       "      <th>...</th>\n",
       "      <th>Unnamed: 77</th>\n",
       "      <th>Unnamed: 78</th>\n",
       "      <th>Unnamed: 79</th>\n",
       "      <th>Unnamed: 80</th>\n",
       "      <th>Unnamed: 81</th>\n",
       "      <th>Unnamed: 82</th>\n",
       "      <th>Unnamed: 83</th>\n",
       "      <th>Unnamed: 84</th>\n",
       "      <th>Unnamed: 85</th>\n",
       "      <th>Unnamed: 86</th>\n",
       "    </tr>\n",
       "  </thead>\n",
       "  <tbody>\n",
       "    <tr>\n",
       "      <th>0</th>\n",
       "      <td>2</td>\n",
       "      <td>Ex Wife Threatening SuicideRecently I left my ...</td>\n",
       "      <td>suicide</td>\n",
       "      <td>NaN</td>\n",
       "      <td>NaN</td>\n",
       "      <td>NaN</td>\n",
       "      <td>NaN</td>\n",
       "      <td>NaN</td>\n",
       "      <td>NaN</td>\n",
       "      <td>NaN</td>\n",
       "      <td>...</td>\n",
       "      <td>NaN</td>\n",
       "      <td>NaN</td>\n",
       "      <td>NaN</td>\n",
       "      <td>NaN</td>\n",
       "      <td>NaN</td>\n",
       "      <td>NaN</td>\n",
       "      <td>NaN</td>\n",
       "      <td>NaN</td>\n",
       "      <td>NaN</td>\n",
       "      <td>NaN</td>\n",
       "    </tr>\n",
       "    <tr>\n",
       "      <th>1</th>\n",
       "      <td>3</td>\n",
       "      <td>Am I weird I don't get affected by compliments...</td>\n",
       "      <td>non-suicide</td>\n",
       "      <td>NaN</td>\n",
       "      <td>NaN</td>\n",
       "      <td>NaN</td>\n",
       "      <td>NaN</td>\n",
       "      <td>NaN</td>\n",
       "      <td>NaN</td>\n",
       "      <td>NaN</td>\n",
       "      <td>...</td>\n",
       "      <td>NaN</td>\n",
       "      <td>NaN</td>\n",
       "      <td>NaN</td>\n",
       "      <td>NaN</td>\n",
       "      <td>NaN</td>\n",
       "      <td>NaN</td>\n",
       "      <td>NaN</td>\n",
       "      <td>NaN</td>\n",
       "      <td>NaN</td>\n",
       "      <td>NaN</td>\n",
       "    </tr>\n",
       "    <tr>\n",
       "      <th>2</th>\n",
       "      <td>4</td>\n",
       "      <td>Finally 2020 is almost over... So I can never ...</td>\n",
       "      <td>non-suicide</td>\n",
       "      <td>NaN</td>\n",
       "      <td>NaN</td>\n",
       "      <td>NaN</td>\n",
       "      <td>NaN</td>\n",
       "      <td>NaN</td>\n",
       "      <td>NaN</td>\n",
       "      <td>NaN</td>\n",
       "      <td>...</td>\n",
       "      <td>NaN</td>\n",
       "      <td>NaN</td>\n",
       "      <td>NaN</td>\n",
       "      <td>NaN</td>\n",
       "      <td>NaN</td>\n",
       "      <td>NaN</td>\n",
       "      <td>NaN</td>\n",
       "      <td>NaN</td>\n",
       "      <td>NaN</td>\n",
       "      <td>NaN</td>\n",
       "    </tr>\n",
       "    <tr>\n",
       "      <th>3</th>\n",
       "      <td>8</td>\n",
       "      <td>i need helpjust help me im crying so hard</td>\n",
       "      <td>suicide</td>\n",
       "      <td>NaN</td>\n",
       "      <td>NaN</td>\n",
       "      <td>NaN</td>\n",
       "      <td>NaN</td>\n",
       "      <td>NaN</td>\n",
       "      <td>NaN</td>\n",
       "      <td>NaN</td>\n",
       "      <td>...</td>\n",
       "      <td>NaN</td>\n",
       "      <td>NaN</td>\n",
       "      <td>NaN</td>\n",
       "      <td>NaN</td>\n",
       "      <td>NaN</td>\n",
       "      <td>NaN</td>\n",
       "      <td>NaN</td>\n",
       "      <td>NaN</td>\n",
       "      <td>NaN</td>\n",
       "      <td>NaN</td>\n",
       "    </tr>\n",
       "    <tr>\n",
       "      <th>4</th>\n",
       "      <td>9</td>\n",
       "      <td>IÃ¢â¬â¢m so lostHello, my name is Adam (16) ...</td>\n",
       "      <td>suicide</td>\n",
       "      <td>NaN</td>\n",
       "      <td>NaN</td>\n",
       "      <td>NaN</td>\n",
       "      <td>NaN</td>\n",
       "      <td>NaN</td>\n",
       "      <td>NaN</td>\n",
       "      <td>NaN</td>\n",
       "      <td>...</td>\n",
       "      <td>NaN</td>\n",
       "      <td>NaN</td>\n",
       "      <td>NaN</td>\n",
       "      <td>NaN</td>\n",
       "      <td>NaN</td>\n",
       "      <td>NaN</td>\n",
       "      <td>NaN</td>\n",
       "      <td>NaN</td>\n",
       "      <td>NaN</td>\n",
       "      <td>NaN</td>\n",
       "    </tr>\n",
       "  </tbody>\n",
       "</table>\n",
       "<p>5 rows × 87 columns</p>\n",
       "</div>"
      ],
      "text/plain": [
       "  ï»¿                                               text        class   \n",
       "0   2  Ex Wife Threatening SuicideRecently I left my ...      suicide  \\\n",
       "1   3  Am I weird I don't get affected by compliments...  non-suicide   \n",
       "2   4  Finally 2020 is almost over... So I can never ...  non-suicide   \n",
       "3   8          i need helpjust help me im crying so hard      suicide   \n",
       "4   9  IÃ¢â¬â¢m so lostHello, my name is Adam (16) ...      suicide   \n",
       "\n",
       "  Unnamed: 3 Unnamed: 4 Unnamed: 5 Unnamed: 6 Unnamed: 7 Unnamed: 8   \n",
       "0        NaN        NaN        NaN        NaN        NaN        NaN  \\\n",
       "1        NaN        NaN        NaN        NaN        NaN        NaN   \n",
       "2        NaN        NaN        NaN        NaN        NaN        NaN   \n",
       "3        NaN        NaN        NaN        NaN        NaN        NaN   \n",
       "4        NaN        NaN        NaN        NaN        NaN        NaN   \n",
       "\n",
       "  Unnamed: 9  ... Unnamed: 77 Unnamed: 78 Unnamed: 79 Unnamed: 80 Unnamed: 81   \n",
       "0        NaN  ...         NaN         NaN         NaN         NaN         NaN  \\\n",
       "1        NaN  ...         NaN         NaN         NaN         NaN         NaN   \n",
       "2        NaN  ...         NaN         NaN         NaN         NaN         NaN   \n",
       "3        NaN  ...         NaN         NaN         NaN         NaN         NaN   \n",
       "4        NaN  ...         NaN         NaN         NaN         NaN         NaN   \n",
       "\n",
       "  Unnamed: 82 Unnamed: 83 Unnamed: 84 Unnamed: 85 Unnamed: 86  \n",
       "0         NaN         NaN         NaN         NaN         NaN  \n",
       "1         NaN         NaN         NaN         NaN         NaN  \n",
       "2         NaN         NaN         NaN         NaN         NaN  \n",
       "3         NaN         NaN         NaN         NaN         NaN  \n",
       "4         NaN         NaN         NaN         NaN         NaN  \n",
       "\n",
       "[5 rows x 87 columns]"
      ]
     },
     "execution_count": 3,
     "metadata": {},
     "output_type": "execute_result"
    }
   ],
   "source": [
    "\n",
    "# %%\n",
    "data = pd.read_csv('Suicide_Detection.csv',encoding='ISO-8859-1',on_bad_lines='skip')\n",
    "data.head()"
   ]
  },
  {
   "cell_type": "code",
   "execution_count": 4,
   "metadata": {},
   "outputs": [
    {
     "data": {
      "text/html": [
       "<div>\n",
       "<style scoped>\n",
       "    .dataframe tbody tr th:only-of-type {\n",
       "        vertical-align: middle;\n",
       "    }\n",
       "\n",
       "    .dataframe tbody tr th {\n",
       "        vertical-align: top;\n",
       "    }\n",
       "\n",
       "    .dataframe thead th {\n",
       "        text-align: right;\n",
       "    }\n",
       "</style>\n",
       "<table border=\"1\" class=\"dataframe\">\n",
       "  <thead>\n",
       "    <tr style=\"text-align: right;\">\n",
       "      <th></th>\n",
       "      <th>text</th>\n",
       "      <th>class</th>\n",
       "    </tr>\n",
       "  </thead>\n",
       "  <tbody>\n",
       "    <tr>\n",
       "      <th>0</th>\n",
       "      <td>Ex Wife Threatening SuicideRecently I left my ...</td>\n",
       "      <td>suicide</td>\n",
       "    </tr>\n",
       "    <tr>\n",
       "      <th>1</th>\n",
       "      <td>Am I weird I don't get affected by compliments...</td>\n",
       "      <td>non-suicide</td>\n",
       "    </tr>\n",
       "    <tr>\n",
       "      <th>2</th>\n",
       "      <td>Finally 2020 is almost over... So I can never ...</td>\n",
       "      <td>non-suicide</td>\n",
       "    </tr>\n",
       "    <tr>\n",
       "      <th>3</th>\n",
       "      <td>i need helpjust help me im crying so hard</td>\n",
       "      <td>suicide</td>\n",
       "    </tr>\n",
       "    <tr>\n",
       "      <th>4</th>\n",
       "      <td>IÃ¢â¬â¢m so lostHello, my name is Adam (16) ...</td>\n",
       "      <td>suicide</td>\n",
       "    </tr>\n",
       "  </tbody>\n",
       "</table>\n",
       "</div>"
      ],
      "text/plain": [
       "                                                text        class\n",
       "0  Ex Wife Threatening SuicideRecently I left my ...      suicide\n",
       "1  Am I weird I don't get affected by compliments...  non-suicide\n",
       "2  Finally 2020 is almost over... So I can never ...  non-suicide\n",
       "3          i need helpjust help me im crying so hard      suicide\n",
       "4  IÃ¢â¬â¢m so lostHello, my name is Adam (16) ...      suicide"
      ]
     },
     "execution_count": 4,
     "metadata": {},
     "output_type": "execute_result"
    }
   ],
   "source": [
    "\n",
    "# %%\n",
    "data = data.iloc[:, 1:3]\n",
    "data.head()"
   ]
  },
  {
   "cell_type": "code",
   "execution_count": 5,
   "metadata": {},
   "outputs": [
    {
     "data": {
      "text/plain": [
       "class\n",
       "suicide                                                                                                                                                                                                                                                                                                                                                       116033\n",
       "non-suicide                                                                                                                                                                                                                                                                                                                                                   116012\n",
       "  which  is  in  thewilderness.7And they returned                                                                                                                                                                                                                                                                                                                  2\n",
       "from the south to Bethel                                                                                                                                                                                                                                                                                                                                           2\n",
       "ÃÂ rich                                                                                                                                                                                                                                                                                                                                                           1\n",
       "ÃÂ when they should've been there for me and how -I should've reached out- when nobody came for me to understand and stood by me if I was alive.                                                                                                                                                                                                                  1\n",
       " no matter how humbleÃ¢â¬âa microbe would be just fineÃ¢â¬âwill de-provincialize biology. It will show us what else is possible. WeÃ¢â¬â¢ve heard so far the voice of life on only a single world. But for the first time                                                                                                                                  1\n",
       " itÃ¢â¬â¢s been found that RNA                                                                                                                                                                                                                                                                                                                                   1\n",
       " perhaps killing all the dinosaurs but sparing the small                                                                                                                                                                                                                                                                                                           1\n",
       " the cake                                                                                                                                                                                                                                                                                                                                                          1\n",
       " but it might just not be working for them any longer. They might need to do things in a different way and accept that the things they fall back on and rely on when faced with that doubt may no longer work for them predictably or without error in anticipated outcome. Sometimes we get so habituated to things we do routinely                               1\n",
       " one is used to acting out of desperation to alleviate that pain. Being told to just                                                                                                                                                                                                                                                                               1\n",
       " or swallowing the poison and expecting the other person to die. I don't hold onto this anger. I accept it as something crappy that happens in life                                                                                                                                                                                                                1\n",
       " helium                                                                                                                                                                                                                                                                                                                                                            1\n",
       " everyone sees it and knows about it? Am I the only one who feels as though I will never have the privacy to grow the way I want to - because I simply can't prove myself trustworthy? Am I the only one who feels like I am being told to accept a mediocre life because that is what people just expect at this point? That if I haven't fixed it by now         1\n",
       " someone who is too distracted over all of this to find purpose and meaning in something else. Someone who is inclined to just delete all of this. Derp Derp\"                                                                                                                                                                                                      1\n",
       " in crowded places and everywhere else                                                                                                                                                                                                                                                                                                                             1\n",
       " someone who wants to be friends with you                                                                                                                                                                                                                                                                                                                          1\n",
       " you only get paid to care about people it's not like you actually care because you have no heart. That's what these people are all aboutÃÂ                                                                                                                                                                                                                       1\n",
       " cruel                                                                                                                                                                                                                                                                                                                                                             1\n",
       " I hate how I'm treated.                                                                                                                                                                                                                                                                                                                                           1\n",
       " so badly                                                                                                                                                                                                                                                                                                                                                          1\n",
       " the better. There's so much to do. The camera there is                                                                                                                                                                                                                                                                                                            1\n",
       " creatures very different from any that we know.                                                                                                                                                                                                                                                                                                                   1\n",
       " understandable.  ItÃ¢â¬â¢s 10 pages single spaced after all.  IÃ¢â¬â¢m probably going to print this out later to take to my schoolÃ¢â¬â¢s counselling center because itÃ¢â¬â¢s easier than trying to articulate this whole mess in front of a stranger.                                                                                                   1\n",
       " but i could die at least! I crossed a bridge across the motorway. We had passed under it in a car so many times. I had seen on another bridge earlier that tyou could get tyour feet onto a surface ont he ohter sidef. I went to the side                                                                                                                        1\n",
       " but its making me feel worse. A few people were pleaesd to see me back. It touched me in a way. I'm sure im not alone when i say suicidal people have contemplated who would be at their funerals. I'm sick of living this life. Seeing other people livign their life                                                                                            1\n",
       " with our intelligence and our knowledge of the cosmos.\"                                                                                                                                                                                                                                                                                                           1\n",
       " what are you doing?! Then all we do is blend in with traffic... ...without arousing suspicion. Once at the airport                                                                                                                                                                                                                                                1\n",
       " my father used to yell                                                                                                                                                                                                                                                                                                                                            1\n",
       " let alone saying it                                                                                                                                                                                                                                                                                                                                               1\n",
       " her siblings                                                                                                                                                                                                                                                                                                                                                      1\n",
       " but I guess it makes WVU look good. We will see                                                                                                                                                                                                                                                                                                                   1\n",
       " bary bemson bee t the stand. .goud ibea! you can really sae why he's conzidered one f dha bezt lawyers                                                                                                                                                                                                                                                            1\n",
       " they think IÃ¢â¬â¢m safe. Little do they know                                                                                                                                                                                                                                                                                                                   1\n",
       " or harder than what theirs could be. IÃ¢â¬â¢m not a fighter                                                                                                                                                                                                                                                                                                     1\n",
       " paranoia                                                                                                                                                                                                                                                                                                                                                          1\n",
       " in a relationship                                                                                                                                                                                                                                                                                                                                                 1\n",
       " they feel bad                                                                                                                                                                                                                                                                                                                                                     1\n",
       " those words were the only thing I would have needed to stay.Ã¢â¬Â                                                                                                                                                                                                                                                                                               1\n",
       " not because they like me. Be because they receive something from me. QPC employees are nice because I give them my business. If I never met them                                                                                                                                                                                                                  1\n",
       " besides nobody cares why am I still here. I should leave this worldÃ°Å¸â¢âÃ°Å¸Ëâ\"                                                                                                                                                                                                                                                                           1\n",
       "Name: count, dtype: int64"
      ]
     },
     "execution_count": 5,
     "metadata": {},
     "output_type": "execute_result"
    }
   ],
   "source": [
    "\n",
    "# %%\n",
    "data['class'].value_counts()"
   ]
  },
  {
   "cell_type": "code",
   "execution_count": 6,
   "metadata": {},
   "outputs": [
    {
     "data": {
      "text/plain": [
       "class\n",
       "suicide        116033\n",
       "non-suicide    116012\n",
       "Name: count, dtype: int64"
      ]
     },
     "execution_count": 6,
     "metadata": {},
     "output_type": "execute_result"
    }
   ],
   "source": [
    "\n",
    "# %%\n",
    "data = data[data['class'].apply(lambda x: x==\"suicide\" or x==\"non-suicide\")]\n",
    "\n",
    "# %%\n",
    "data['class'].value_counts()"
   ]
  },
  {
   "cell_type": "code",
   "execution_count": 7,
   "metadata": {},
   "outputs": [
    {
     "name": "stdout",
     "output_type": "stream",
     "text": [
      "<class 'pandas.core.frame.DataFrame'>\n",
      "Index: 232031 entries, 0 to 233336\n",
      "Data columns (total 2 columns):\n",
      " #   Column  Non-Null Count   Dtype \n",
      "---  ------  --------------   ----- \n",
      " 0   text    232031 non-null  object\n",
      " 1   class   232031 non-null  object\n",
      "dtypes: object(2)\n",
      "memory usage: 5.3+ MB\n"
     ]
    }
   ],
   "source": [
    "\n",
    "# %%\n",
    "data = data.dropna()\n",
    "data.info()"
   ]
  },
  {
   "cell_type": "code",
   "execution_count": 8,
   "metadata": {},
   "outputs": [
    {
     "data": {
      "text/html": [
       "<div>\n",
       "<style scoped>\n",
       "    .dataframe tbody tr th:only-of-type {\n",
       "        vertical-align: middle;\n",
       "    }\n",
       "\n",
       "    .dataframe tbody tr th {\n",
       "        vertical-align: top;\n",
       "    }\n",
       "\n",
       "    .dataframe thead th {\n",
       "        text-align: right;\n",
       "    }\n",
       "</style>\n",
       "<table border=\"1\" class=\"dataframe\">\n",
       "  <thead>\n",
       "    <tr style=\"text-align: right;\">\n",
       "      <th></th>\n",
       "      <th>text</th>\n",
       "      <th>class</th>\n",
       "    </tr>\n",
       "  </thead>\n",
       "  <tbody>\n",
       "    <tr>\n",
       "      <th>0</th>\n",
       "      <td>Ex Wife Threatening SuicideRecently I left my ...</td>\n",
       "      <td>1</td>\n",
       "    </tr>\n",
       "    <tr>\n",
       "      <th>1</th>\n",
       "      <td>Am I weird I don't get affected by compliments...</td>\n",
       "      <td>0</td>\n",
       "    </tr>\n",
       "    <tr>\n",
       "      <th>2</th>\n",
       "      <td>Finally 2020 is almost over... So I can never ...</td>\n",
       "      <td>0</td>\n",
       "    </tr>\n",
       "    <tr>\n",
       "      <th>3</th>\n",
       "      <td>i need helpjust help me im crying so hard</td>\n",
       "      <td>1</td>\n",
       "    </tr>\n",
       "    <tr>\n",
       "      <th>4</th>\n",
       "      <td>IÃ¢â¬â¢m so lostHello, my name is Adam (16) ...</td>\n",
       "      <td>1</td>\n",
       "    </tr>\n",
       "  </tbody>\n",
       "</table>\n",
       "</div>"
      ],
      "text/plain": [
       "                                                text  class\n",
       "0  Ex Wife Threatening SuicideRecently I left my ...      1\n",
       "1  Am I weird I don't get affected by compliments...      0\n",
       "2  Finally 2020 is almost over... So I can never ...      0\n",
       "3          i need helpjust help me im crying so hard      1\n",
       "4  IÃ¢â¬â¢m so lostHello, my name is Adam (16) ...      1"
      ]
     },
     "execution_count": 8,
     "metadata": {},
     "output_type": "execute_result"
    }
   ],
   "source": [
    "\n",
    "# %%\n",
    "data['class'] = data['class'].replace('non-suicide', 0)\n",
    "data['class'] = data['class'].replace('suicide', 1)\n",
    "\n",
    "# %%\n",
    "data.head()\n"
   ]
  },
  {
   "cell_type": "code",
   "execution_count": 9,
   "metadata": {},
   "outputs": [
    {
     "data": {
      "text/plain": [
       "class\n",
       "0    108306\n",
       "1     71000\n",
       "Name: count, dtype: int64"
      ]
     },
     "execution_count": 9,
     "metadata": {},
     "output_type": "execute_result"
    }
   ],
   "source": [
    "\n",
    "# %%\n",
    "data = data[data['text'].apply(lambda x: len(x.split())<=170)]\n",
    "data.reset_index(drop=True, inplace=True)\n",
    "\n",
    "# %%\n",
    "data['class'].value_counts()"
   ]
  },
  {
   "cell_type": "code",
   "execution_count": 10,
   "metadata": {},
   "outputs": [
    {
     "data": {
      "text/html": [
       "<div>\n",
       "<style scoped>\n",
       "    .dataframe tbody tr th:only-of-type {\n",
       "        vertical-align: middle;\n",
       "    }\n",
       "\n",
       "    .dataframe tbody tr th {\n",
       "        vertical-align: top;\n",
       "    }\n",
       "\n",
       "    .dataframe thead th {\n",
       "        text-align: right;\n",
       "    }\n",
       "</style>\n",
       "<table border=\"1\" class=\"dataframe\">\n",
       "  <thead>\n",
       "    <tr style=\"text-align: right;\">\n",
       "      <th></th>\n",
       "      <th>text</th>\n",
       "      <th>class</th>\n",
       "    </tr>\n",
       "  </thead>\n",
       "  <tbody>\n",
       "    <tr>\n",
       "      <th>0</th>\n",
       "      <td>cool shit I did for art class [https://cdn.dis...</td>\n",
       "      <td>0</td>\n",
       "    </tr>\n",
       "    <tr>\n",
       "      <th>1</th>\n",
       "      <td>how in the world do people take 10-20 minute p...</td>\n",
       "      <td>0</td>\n",
       "    </tr>\n",
       "    <tr>\n",
       "      <th>2</th>\n",
       "      <td>Im so boreddddd ahhh \\nIf you wanna talk to a ...</td>\n",
       "      <td>0</td>\n",
       "    </tr>\n",
       "    <tr>\n",
       "      <th>3</th>\n",
       "      <td>Play Animal Crossing (looking for friends!) IÃ...</td>\n",
       "      <td>0</td>\n",
       "    </tr>\n",
       "    <tr>\n",
       "      <th>4</th>\n",
       "      <td>One thing every human can agree with The winne...</td>\n",
       "      <td>0</td>\n",
       "    </tr>\n",
       "    <tr>\n",
       "      <th>...</th>\n",
       "      <td>...</td>\n",
       "      <td>...</td>\n",
       "    </tr>\n",
       "    <tr>\n",
       "      <th>70995</th>\n",
       "      <td>Does anyone else hate it when people randomly ...</td>\n",
       "      <td>1</td>\n",
       "    </tr>\n",
       "    <tr>\n",
       "      <th>70996</th>\n",
       "      <td>(question) HOW BAD YOU FEEL WHEN YOU SEE SOMEO...</td>\n",
       "      <td>1</td>\n",
       "    </tr>\n",
       "    <tr>\n",
       "      <th>70997</th>\n",
       "      <td>WhatÃ¢â¬â¢s the best thing to say in a suici...</td>\n",
       "      <td>1</td>\n",
       "    </tr>\n",
       "    <tr>\n",
       "      <th>70998</th>\n",
       "      <td>Every road is the same.This is hard for me I n...</td>\n",
       "      <td>1</td>\n",
       "    </tr>\n",
       "    <tr>\n",
       "      <th>70999</th>\n",
       "      <td>I'm a screwupI screwed up my school, I screwed...</td>\n",
       "      <td>1</td>\n",
       "    </tr>\n",
       "  </tbody>\n",
       "</table>\n",
       "<p>142000 rows × 2 columns</p>\n",
       "</div>"
      ],
      "text/plain": [
       "                                                    text  class\n",
       "0      cool shit I did for art class [https://cdn.dis...      0\n",
       "1      how in the world do people take 10-20 minute p...      0\n",
       "2      Im so boreddddd ahhh \\nIf you wanna talk to a ...      0\n",
       "3      Play Animal Crossing (looking for friends!) IÃ...      0\n",
       "4      One thing every human can agree with The winne...      0\n",
       "...                                                  ...    ...\n",
       "70995  Does anyone else hate it when people randomly ...      1\n",
       "70996  (question) HOW BAD YOU FEEL WHEN YOU SEE SOMEO...      1\n",
       "70997  WhatÃ¢â¬â¢s the best thing to say in a suici...      1\n",
       "70998  Every road is the same.This is hard for me I n...      1\n",
       "70999  I'm a screwupI screwed up my school, I screwed...      1\n",
       "\n",
       "[142000 rows x 2 columns]"
      ]
     },
     "execution_count": 10,
     "metadata": {},
     "output_type": "execute_result"
    }
   ],
   "source": [
    "\n",
    "# %%\n",
    "df_grouped_by = data.groupby(['class'])\n",
    "df_balanced = df_grouped_by.apply(lambda x: x.sample(df_grouped_by.size().min()).reset_index(drop=True))\n",
    "df_balanced = df_balanced.droplevel(['class'])\n",
    "df_balanced"
   ]
  },
  {
   "cell_type": "code",
   "execution_count": null,
   "metadata": {},
   "outputs": [],
   "source": [
    "# %%\n",
    "pip install imbalanced-learn"
   ]
  },
  {
   "cell_type": "code",
   "execution_count": 11,
   "metadata": {},
   "outputs": [],
   "source": [
    "\n",
    "# %%\n",
    "from collections import Counter"
   ]
  },
  {
   "cell_type": "code",
   "execution_count": 12,
   "metadata": {},
   "outputs": [
    {
     "name": "stdout",
     "output_type": "stream",
     "text": [
      "Training target statistics: Counter({1: 108306, 0: 108306})\n"
     ]
    }
   ],
   "source": [
    "\n",
    "# %%\n",
    "from imblearn.over_sampling import RandomOverSampler\n",
    "over_sampler = RandomOverSampler(random_state=42)\n",
    "\n",
    "x,y = over_sampler.fit_resample(data['text'].values.reshape(-1,1), data['class'])\n",
    "print(f\"Training target statistics: {Counter(y)}\")"
   ]
  },
  {
   "cell_type": "code",
   "execution_count": 13,
   "metadata": {},
   "outputs": [
    {
     "data": {
      "text/plain": [
       "array([[\"Ex Wife Threatening SuicideRecently I left my wife for good because she has cheated on me twice and lied to me so much that I have decided to refuse to go back to her. As of a few days ago, she began threatening suicide. I have tirelessly spent these paat few days talking her out of it and she keeps hesitating because she wants to believe I'll come back. I know a lot of people will threaten this in order to get their way, but what happens if she really does? What do I do and how am I supposed to handle her death on my hands? I still love my wife but I cannot deal with getting cheated on again and constantly feeling insecure. I'm worried today may be the day she does it and I hope so much it doesn't happen.\"],\n",
       "       [\"Am I weird I don't get affected by compliments if it's coming from someone I know irl but I feel really good when internet strangers do it\"],\n",
       "       ['Finally 2020 is almost over... So I can never hear \"2020 has been a bad year\" ever again. I swear to fucking God it\\'s so annoying'],\n",
       "       ['i need helpjust help me im crying so hard'],\n",
       "       ['It ends tonight.I canÃ¢â\\x82¬â\\x84¢t do it anymore. \\nI quit.']],\n",
       "      dtype=object)"
      ]
     },
     "execution_count": 13,
     "metadata": {},
     "output_type": "execute_result"
    }
   ],
   "source": [
    "\n",
    "# %%\n",
    "x[:5]"
   ]
  },
  {
   "cell_type": "code",
   "execution_count": 14,
   "metadata": {},
   "outputs": [
    {
     "data": {
      "text/plain": [
       "(216612,)"
      ]
     },
     "execution_count": 14,
     "metadata": {},
     "output_type": "execute_result"
    }
   ],
   "source": [
    "\n",
    "# %%\n",
    "x = x.flatten()\n",
    "x.shape"
   ]
  },
  {
   "cell_type": "code",
   "execution_count": null,
   "metadata": {},
   "outputs": [],
   "source": [
    "import nltk\n",
    "nltk.download(\"punkt\")\n",
    "from nltk.corpus import stopwords\n",
    "nltk.download(\"stopwords\")\n",
    "\n",
    "nltk.download('omw-1.4')\n",
    "nltk.download('wordnet')"
   ]
  },
  {
   "cell_type": "code",
   "execution_count": null,
   "metadata": {},
   "outputs": [],
   "source": [
    "for i in range(0,216612):\n",
    "    tokens = tokenizer.tokenize(x[i])\n",
    "    lowercased_tokens = [t.lower() for t in tokens]\n",
    "    lemmatized_tokens = [lemmatizer.lemmatize(t) for t in lowercased_tokens]\n",
    "    token_update = [word for word in lemmatized_tokens if not word in stopwords.words()]\n",
    "    x[i] = (\" \").join(token_update)\n",
    "    # if i%500 == 0:\n",
    "      # print(i,\" \",x[i])"
   ]
  },
  {
   "cell_type": "code",
   "execution_count": null,
   "metadata": {},
   "outputs": [],
   "source": [
    "temp_x = x\n",
    "temp_y = y\n",
    "\n",
    "y.tolist()\n",
    "x.tolist()"
   ]
  },
  {
   "cell_type": "code",
   "execution_count": null,
   "metadata": {},
   "outputs": [],
   "source": [
    "data = pd.DataFrame([x,y]).transpose()\n",
    "data.columns = ['text', 'label']\n",
    "data.to_csv('clean_textual.csv')"
   ]
  },
  {
   "cell_type": "code",
   "execution_count": 17,
   "metadata": {},
   "outputs": [],
   "source": [
    "from sklearn.model_selection import train_test_split\n",
    "import keras\n",
    "import tensorflow as tf\n",
    "from tensorflow.keras.models import Sequential\n",
    "from tensorflow.keras.layers import LSTM, Dense, Embedding, Dropout\n",
    "from tensorflow.keras.preprocessing.text import Tokenizer\n",
    "from tensorflow.keras.preprocessing.sequence import pad_sequences\n",
    "import torch\n",
    "import torch.nn as nn\n",
    "import torch.nn.functional as F\n",
    "import torch.optim as optim\n",
    "from torch.utils.data import Dataset, TensorDataset, DataLoader, RandomSampler, SequentialSampler"
   ]
  },
  {
   "cell_type": "code",
   "execution_count": 18,
   "metadata": {},
   "outputs": [],
   "source": [
    "import numpy as np\n",
    "from nltk.tokenize import sent_tokenize, word_tokenize\n",
    "import gensim\n",
    "from gensim.models import Word2Vec\n",
    "from collections import Counter\n",
    "import matplotlib.pyplot as plt"
   ]
  },
  {
   "cell_type": "code",
   "execution_count": 19,
   "metadata": {},
   "outputs": [],
   "source": [
    "EPOCHS = 5\n",
    "BATCH_SIZE = 32\n",
    "LEARNING_RATE = 0.001\n",
    "SEED = 0"
   ]
  },
  {
   "cell_type": "code",
   "execution_count": 38,
   "metadata": {},
   "outputs": [
    {
     "data": {
      "text/html": [
       "<div>\n",
       "<style scoped>\n",
       "    .dataframe tbody tr th:only-of-type {\n",
       "        vertical-align: middle;\n",
       "    }\n",
       "\n",
       "    .dataframe tbody tr th {\n",
       "        vertical-align: top;\n",
       "    }\n",
       "\n",
       "    .dataframe thead th {\n",
       "        text-align: right;\n",
       "    }\n",
       "</style>\n",
       "<table border=\"1\" class=\"dataframe\">\n",
       "  <thead>\n",
       "    <tr style=\"text-align: right;\">\n",
       "      <th></th>\n",
       "      <th>Unnamed: 0</th>\n",
       "      <th>text</th>\n",
       "      <th>label</th>\n",
       "    </tr>\n",
       "  </thead>\n",
       "  <tbody>\n",
       "    <tr>\n",
       "      <th>0</th>\n",
       "      <td>0</td>\n",
       "      <td>wife threatening suiciderecently left wife che...</td>\n",
       "      <td>1</td>\n",
       "    </tr>\n",
       "    <tr>\n",
       "      <th>1</th>\n",
       "      <td>1</td>\n",
       "      <td>weird affected compliment coming irl feel inte...</td>\n",
       "      <td>0</td>\n",
       "    </tr>\n",
       "    <tr>\n",
       "      <th>2</th>\n",
       "      <td>2</td>\n",
       "      <td>finally hear year swear fucking god annoying</td>\n",
       "      <td>0</td>\n",
       "    </tr>\n",
       "    <tr>\n",
       "      <th>3</th>\n",
       "      <td>3</td>\n",
       "      <td>helpjust cry hard</td>\n",
       "      <td>1</td>\n",
       "    </tr>\n",
       "    <tr>\n",
       "      <th>4</th>\n",
       "      <td>4</td>\n",
       "      <td>tonight canã anymore quit</td>\n",
       "      <td>1</td>\n",
       "    </tr>\n",
       "  </tbody>\n",
       "</table>\n",
       "</div>"
      ],
      "text/plain": [
       "   Unnamed: 0                                               text  label\n",
       "0           0  wife threatening suiciderecently left wife che...      1\n",
       "1           1  weird affected compliment coming irl feel inte...      0\n",
       "2           2       finally hear year swear fucking god annoying      0\n",
       "3           3                                  helpjust cry hard      1\n",
       "4           4                          tonight canã anymore quit      1"
      ]
     },
     "execution_count": 38,
     "metadata": {},
     "output_type": "execute_result"
    }
   ],
   "source": [
    "data = pd.read_csv('clean_textual.csv')\n",
    "data = data.dropna()\n",
    "data.head()"
   ]
  },
  {
   "cell_type": "code",
   "execution_count": 39,
   "metadata": {},
   "outputs": [
    {
     "data": {
      "text/html": [
       "<div>\n",
       "<style scoped>\n",
       "    .dataframe tbody tr th:only-of-type {\n",
       "        vertical-align: middle;\n",
       "    }\n",
       "\n",
       "    .dataframe tbody tr th {\n",
       "        vertical-align: top;\n",
       "    }\n",
       "\n",
       "    .dataframe thead th {\n",
       "        text-align: right;\n",
       "    }\n",
       "</style>\n",
       "<table border=\"1\" class=\"dataframe\">\n",
       "  <thead>\n",
       "    <tr style=\"text-align: right;\">\n",
       "      <th></th>\n",
       "      <th>text</th>\n",
       "      <th>label</th>\n",
       "    </tr>\n",
       "  </thead>\n",
       "  <tbody>\n",
       "    <tr>\n",
       "      <th>0</th>\n",
       "      <td>wife threatening suiciderecently left wife che...</td>\n",
       "      <td>1</td>\n",
       "    </tr>\n",
       "    <tr>\n",
       "      <th>1</th>\n",
       "      <td>weird affected compliment coming irl feel inte...</td>\n",
       "      <td>0</td>\n",
       "    </tr>\n",
       "    <tr>\n",
       "      <th>2</th>\n",
       "      <td>finally hear year swear fucking god annoying</td>\n",
       "      <td>0</td>\n",
       "    </tr>\n",
       "    <tr>\n",
       "      <th>3</th>\n",
       "      <td>helpjust cry hard</td>\n",
       "      <td>1</td>\n",
       "    </tr>\n",
       "    <tr>\n",
       "      <th>4</th>\n",
       "      <td>tonight canã anymore quit</td>\n",
       "      <td>1</td>\n",
       "    </tr>\n",
       "  </tbody>\n",
       "</table>\n",
       "</div>"
      ],
      "text/plain": [
       "                                                text  label\n",
       "0  wife threatening suiciderecently left wife che...      1\n",
       "1  weird affected compliment coming irl feel inte...      0\n",
       "2       finally hear year swear fucking god annoying      0\n",
       "3                                  helpjust cry hard      1\n",
       "4                          tonight canã anymore quit      1"
      ]
     },
     "execution_count": 39,
     "metadata": {},
     "output_type": "execute_result"
    }
   ],
   "source": [
    "data = data.iloc[:, 1:3]\n",
    "data.head()"
   ]
  },
  {
   "cell_type": "code",
   "execution_count": 40,
   "metadata": {},
   "outputs": [
    {
     "data": {
      "text/plain": [
       "label\n",
       "1    108205\n",
       "0    108139\n",
       "Name: count, dtype: int64"
      ]
     },
     "execution_count": 40,
     "metadata": {},
     "output_type": "execute_result"
    }
   ],
   "source": [
    "data['label'].value_counts()"
   ]
  },
  {
   "cell_type": "code",
   "execution_count": 41,
   "metadata": {},
   "outputs": [],
   "source": [
    "train_text, temp_text, train_labels, temp_labels = train_test_split(data['text'], data['label'],\n",
    "                                                                    random_state=SEED,\n",
    "                                                                    test_size=0.6,\n",
    "                                                                    stratify=data['label'])\n",
    "\n",
    "val_text, test_text, val_labels, test_labels = train_test_split(temp_text, temp_labels,\n",
    "                                                                random_state=SEED,\n",
    "                                                                test_size=0.5,\n",
    "                                                                stratify=temp_labels)\n",
    "\n",
    "data.text=data.text.astype(str)"
   ]
  },
  {
   "cell_type": "code",
   "execution_count": 42,
   "metadata": {},
   "outputs": [
    {
     "data": {
      "text/plain": [
       "8954                    gay happyi guess extremely straight\n",
       "200993    realized crazy retard clue act retarded guess ...\n",
       "45655     feel chemical imbalance brain making dysfuncti...\n",
       "4035      mental hospital hasnã helped suicide attempt j...\n",
       "206240    future lifehi everyoneã aspect future life fut...\n",
       "                                ...                        \n",
       "189453    year gonna kill guy teenager heã gonna drown s...\n",
       "140547    understand feeling alli live anymore doe make ...\n",
       "182377                                 kill meim damn tired\n",
       "37212     half brother dad commit suicidemy half brother...\n",
       "48137     completely lose shiti male grew sad bitter hos...\n",
       "Name: text, Length: 86537, dtype: object"
      ]
     },
     "execution_count": 42,
     "metadata": {},
     "output_type": "execute_result"
    }
   ],
   "source": [
    "train_text"
   ]
  },
  {
   "cell_type": "code",
   "execution_count": 43,
   "metadata": {},
   "outputs": [
    {
     "data": {
      "text/plain": [
       "61120"
      ]
     },
     "execution_count": 43,
     "metadata": {},
     "output_type": "execute_result"
    }
   ],
   "source": [
    "tokenizer = Tokenizer()\n",
    "tokenizer.fit_on_texts(train_text)\n",
    "vocab_size = len(tokenizer.word_index) + 1\n",
    "\n",
    "vocab_size"
   ]
  },
  {
   "cell_type": "code",
   "execution_count": 44,
   "metadata": {},
   "outputs": [
    {
     "name": "stdout",
     "output_type": "stream",
     "text": [
      "28788\n"
     ]
    }
   ],
   "source": [
    "vocab = Counter()\n",
    "tokens_list = [(s.split()) for s in train_text]\n",
    "for i in tokens_list:\n",
    "  vocab.update(i)\n",
    "min_occurance = 2\n",
    "tokens = [k for k,c in vocab.items() if c >= min_occurance]\n",
    "print(len(tokens))"
   ]
  },
  {
   "cell_type": "code",
   "execution_count": 45,
   "metadata": {},
   "outputs": [],
   "source": [
    "def save_list(lines, filename):\n",
    "\tdata = '\\n'.join(lines)\n",
    "\tfile = open(filename, 'w')\n",
    "\tfile.write(data)\n",
    "\tfile.close()\n",
    " \n",
    "save_list(vocab, 'vocab.txt')"
   ]
  },
  {
   "cell_type": "code",
   "execution_count": 46,
   "metadata": {},
   "outputs": [],
   "source": [
    "def clean_line(line, vocab):\n",
    "  tokens = line.split()\n",
    "  tokens_clean = [w for w in tokens if w in vocab]\n",
    "  return [tokens_clean]\n",
    "\n",
    "def process_lines(data, vocab):\n",
    "  lines = list()\n",
    "  for i in data:\n",
    "    line = clean_line(i, vocab)\n",
    "    lines += line\n",
    "  return lines"
   ]
  },
  {
   "cell_type": "code",
   "execution_count": 47,
   "metadata": {},
   "outputs": [],
   "source": [
    "train_clean = process_lines(train_text, vocab)\n",
    "test_clean = process_lines(test_text, vocab)\n",
    "\n",
    "model = Word2Vec(vector_size=100, window=4, min_count=2, epochs=18, seed=SEED)\n",
    "model.build_vocab(train_clean, progress_per=200)"
   ]
  },
  {
   "cell_type": "code",
   "execution_count": 48,
   "metadata": {},
   "outputs": [
    {
     "data": {
      "text/plain": [
       "(7552153, 8538985)"
      ]
     },
     "execution_count": 48,
     "metadata": {},
     "output_type": "execute_result"
    }
   ],
   "source": [
    "model.train(train_clean, total_examples=model.corpus_count, epochs=EPOCHS,report_delay=1)"
   ]
  },
  {
   "cell_type": "code",
   "execution_count": 49,
   "metadata": {},
   "outputs": [],
   "source": [
    "filename = 'embedding_word2vec.txt'\n",
    "model.wv.save_word2vec_format(filename, binary=False)"
   ]
  },
  {
   "cell_type": "code",
   "execution_count": 50,
   "metadata": {},
   "outputs": [
    {
     "data": {
      "text/plain": [
       "[('suicidei', 0.8089947700500488),\n",
       " ('suicideafter', 0.7604475617408752),\n",
       " ('killing', 0.7101738452911377),\n",
       " ('arson', 0.6743258237838745),\n",
       " ('tni', 0.6723685264587402),\n",
       " ('intervenes', 0.6693553328514099),\n",
       " ('suicid', 0.6662326455116272),\n",
       " ('unsuccessful', 0.6650739908218384),\n",
       " ('suicidein', 0.6507349014282227),\n",
       " ('git', 0.6217130422592163)]"
      ]
     },
     "execution_count": 50,
     "metadata": {},
     "output_type": "execute_result"
    }
   ],
   "source": [
    "model.wv.most_similar('suicide')"
   ]
  },
  {
   "cell_type": "code",
   "execution_count": 51,
   "metadata": {},
   "outputs": [],
   "source": [
    "def tokenize_and_encode(text, max_length=70):\n",
    "    encoded_docs = tokenizer.texts_to_sequences(text)\n",
    "    padded_sequence = pad_sequences(encoded_docs, maxlen=max_length, padding='post')\n",
    "    return padded_sequence\n",
    "\n",
    "tokens_train = tokenize_and_encode(train_text)\n",
    "tokens_val = tokenize_and_encode(val_text)\n",
    "tokens_test = tokenize_and_encode(test_text)"
   ]
  },
  {
   "cell_type": "code",
   "execution_count": 52,
   "metadata": {},
   "outputs": [],
   "source": [
    "def load_embedding(filename):\n",
    "\tfile = open(filename,'r')\n",
    "\tlines = file.readlines()[1:]\n",
    "\tfile.close()\n",
    "\tembedding = dict()\n",
    "\tfor line in lines:\n",
    "\t\tparts = line.split()\n",
    "\t\tembedding[parts[0]] = np.asarray(parts[1:], dtype='float32')\n",
    "\treturn embedding"
   ]
  },
  {
   "cell_type": "code",
   "execution_count": 53,
   "metadata": {},
   "outputs": [],
   "source": [
    "def get_weight_matrix(embedding, vocab, embedding_dim):\n",
    "\tvocab_size = len(vocab) + 1\n",
    "\tweight_matrix = np.zeros((vocab_size, embedding_dim))\n",
    "\tfor word, i in vocab.items():\n",
    "\t\tweight_matrix[i] = embedding.get(word)\n",
    "\treturn weight_matrix"
   ]
  },
  {
   "cell_type": "code",
   "execution_count": 54,
   "metadata": {},
   "outputs": [],
   "source": [
    "def create_emb_layer(weights_matrix, non_trainable=False):\n",
    "    num_embeddings, embedding_dim = weights_matrix.shape[0], weights_matrix.shape[1]\n",
    "    emb_layer = nn.Embedding(num_embeddings, embedding_dim)\n",
    "    emb_layer.load_state_dict({'weight': torch.from_numpy(weights_matrix)})\n",
    "    if non_trainable:\n",
    "        emb_layer.weight.requires_grad = False\n",
    "\n",
    "    return emb_layer, num_embeddings, embedding_dim"
   ]
  },
  {
   "cell_type": "code",
   "execution_count": 55,
   "metadata": {},
   "outputs": [],
   "source": [
    "raw_embedding_word2vec = load_embedding('embedding_word2vec.txt') \n",
    "embedding_vectors_word2vec = get_weight_matrix(raw_embedding_word2vec, tokenizer.word_index, 100)\n",
    "embedding_vectors_word2vec = np.float32(embedding_vectors_word2vec)"
   ]
  },
  {
   "cell_type": "code",
   "execution_count": 56,
   "metadata": {},
   "outputs": [],
   "source": [
    "from keras.layers import Embedding,Dense,LSTM,Bidirectional,GlobalMaxPooling1D,Input,Dropout,Conv1D,MaxPooling1D,Flatten\n",
    "from sklearn.metrics import classification_report\n",
    "from sklearn.metrics import accuracy_score, precision_score, recall_score, f1_score\n",
    " "
   ]
  },
  {
   "attachments": {},
   "cell_type": "markdown",
   "metadata": {},
   "source": [
    "CNN Model"
   ]
  },
  {
   "cell_type": "code",
   "execution_count": 57,
   "metadata": {},
   "outputs": [
    {
     "name": "stdout",
     "output_type": "stream",
     "text": [
      "Model: \"sequential\"\n",
      "_________________________________________________________________\n",
      " Layer (type)                Output Shape              Param #   \n",
      "=================================================================\n",
      " embedding (Embedding)       (None, 70, 100)           6112000   \n",
      "                                                                 \n",
      " conv1d (Conv1D)             (None, 63, 32)            25632     \n",
      "                                                                 \n",
      " max_pooling1d (MaxPooling1D  (None, 31, 32)           0         \n",
      " )                                                               \n",
      "                                                                 \n",
      " dropout (Dropout)           (None, 31, 32)            0         \n",
      "                                                                 \n",
      " flatten (Flatten)           (None, 992)               0         \n",
      "                                                                 \n",
      " dense (Dense)               (None, 10)                9930      \n",
      "                                                                 \n",
      " dense_1 (Dense)             (None, 1)                 11        \n",
      "                                                                 \n",
      "=================================================================\n",
      "Total params: 6,147,573\n",
      "Trainable params: 6,147,573\n",
      "Non-trainable params: 0\n",
      "_________________________________________________________________\n",
      "None\n"
     ]
    }
   ],
   "source": [
    "model = Sequential()\n",
    "model.add(Embedding(vocab_size, 100, input_length=70))\n",
    "model.add(Conv1D(filters=32, kernel_size=8, activation='relu'))\n",
    "model.add(MaxPooling1D(pool_size=2))\n",
    "model.add(Dropout(0.5))\n",
    "model.add(Flatten())\n",
    "model.add(Dense(10, activation='relu'))\n",
    "model.add(Dense(1, activation='sigmoid'))\n",
    "model.compile(optimizer='adam', loss='binary_crossentropy', metrics=['accuracy'])\n",
    "\n",
    "print(model.summary())"
   ]
  },
  {
   "cell_type": "code",
   "execution_count": 58,
   "metadata": {},
   "outputs": [
    {
     "name": "stdout",
     "output_type": "stream",
     "text": [
      "Epoch 1/4\n",
      "339/339 [==============================] - 52s 149ms/step - loss: 0.2913 - accuracy: 0.8750 - val_loss: 0.1985 - val_accuracy: 0.9251\n",
      "Epoch 2/4\n",
      "339/339 [==============================] - 47s 140ms/step - loss: 0.1513 - accuracy: 0.9451 - val_loss: 0.1863 - val_accuracy: 0.9285\n",
      "Epoch 3/4\n",
      "339/339 [==============================] - 48s 141ms/step - loss: 0.0996 - accuracy: 0.9659 - val_loss: 0.2007 - val_accuracy: 0.9274\n",
      "Epoch 4/4\n",
      "339/339 [==============================] - 48s 142ms/step - loss: 0.0659 - accuracy: 0.9774 - val_loss: 0.2383 - val_accuracy: 0.9241\n"
     ]
    },
    {
     "data": {
      "image/png": "[encoded data removed]",
      "text/plain": [
       "<Figure size 1000x800 with 1 Axes>"
      ]
     },
     "metadata": {},
     "output_type": "display_data"
    }
   ],
   "source": [
    "train=model.fit(tokens_train,train_labels,validation_data=(tokens_val,val_labels),epochs=4,batch_size=256)\n",
    "\n",
    "plt.figure(figsize=(10,8))\n",
    "plt.plot(train.history['accuracy'])\n",
    "plt.plot(train.history['val_accuracy'])\n",
    "plt.title('ACCURACY CURVE',fontdict={'size':20})\n",
    "plt.show()"
   ]
  },
  {
   "cell_type": "code",
   "execution_count": 59,
   "metadata": {},
   "outputs": [
    {
     "name": "stdout",
     "output_type": "stream",
     "text": [
      "2029/2029 [==============================] - 6s 3ms/step\n",
      "              precision    recall  f1-score   support\n",
      "\n",
      "           0       0.92      0.93      0.93     32442\n",
      "           1       0.93      0.92      0.92     32462\n",
      "\n",
      "    accuracy                           0.93     64904\n",
      "   macro avg       0.93      0.93      0.93     64904\n",
      "weighted avg       0.93      0.93      0.93     64904\n",
      "\n"
     ]
    }
   ],
   "source": [
    "test_predictions = (model.predict(tokens_test) > 0.5).astype(int)\n",
    "from sklearn.metrics import classification_report\n",
    "print(classification_report(test_labels, test_predictions))"
   ]
  },
  {
   "attachments": {},
   "cell_type": "markdown",
   "metadata": {},
   "source": [
    "LSTM Model"
   ]
  },
  {
   "cell_type": "code",
   "execution_count": 60,
   "metadata": {},
   "outputs": [
    {
     "name": "stdout",
     "output_type": "stream",
     "text": [
      "Model: \"sequential_1\"\n",
      "_________________________________________________________________\n",
      " Layer (type)                Output Shape              Param #   \n",
      "=================================================================\n",
      " embedding_1 (Embedding)     (None, 70, 100)           6112000   \n",
      "                                                                 \n",
      " lstm (LSTM)                 (None, 70, 100)           80400     \n",
      "                                                                 \n",
      " dense_2 (Dense)             (None, 70, 10)            1010      \n",
      "                                                                 \n",
      " dense_3 (Dense)             (None, 70, 1)             11        \n",
      "                                                                 \n",
      "=================================================================\n",
      "Total params: 6,193,421\n",
      "Trainable params: 6,193,421\n",
      "Non-trainable params: 0\n",
      "_________________________________________________________________\n",
      "None\n"
     ]
    }
   ],
   "source": [
    "model1 = Sequential()\n",
    "model1.add(Embedding(vocab_size, 100, input_length=70))\n",
    "model1.add(LSTM(units=100,return_sequences = True))\n",
    "model1.add(Dense(10))\n",
    "model1.add(Dense(1, activation='sigmoid'))\n",
    "model1.compile(loss='binary_crossentropy', optimizer='adam', metrics=['accuracy'])\n",
    "print(model1.summary())"
   ]
  },
  {
   "cell_type": "code",
   "execution_count": 61,
   "metadata": {},
   "outputs": [
    {
     "name": "stdout",
     "output_type": "stream",
     "text": [
      "Epoch 1/5\n",
      "339/339 [==============================] - 115s 332ms/step - loss: 0.3014 - accuracy: 0.8745 - val_loss: 0.2372 - val_accuracy: 0.9064\n",
      "Epoch 2/5\n",
      "339/339 [==============================] - 130s 384ms/step - loss: 0.1860 - accuracy: 0.9298 - val_loss: 0.2270 - val_accuracy: 0.9145\n",
      "Epoch 3/5\n",
      "339/339 [==============================] - 132s 389ms/step - loss: 0.1444 - accuracy: 0.9469 - val_loss: 0.2286 - val_accuracy: 0.9134\n",
      "Epoch 4/5\n",
      "339/339 [==============================] - 125s 370ms/step - loss: 0.1184 - accuracy: 0.9546 - val_loss: 0.2468 - val_accuracy: 0.9111\n",
      "Epoch 5/5\n",
      "339/339 [==============================] - 160s 473ms/step - loss: 0.1014 - accuracy: 0.9594 - val_loss: 0.2639 - val_accuracy: 0.9076\n"
     ]
    }
   ],
   "source": [
    "train=model1.fit(tokens_train,train_labels,validation_data=(tokens_val,val_labels),epochs=5,batch_size=256)"
   ]
  },
  {
   "cell_type": "code",
   "execution_count": 62,
   "metadata": {},
   "outputs": [
    {
     "data": {
      "image/png": "[encoded data removed]",
      "text/plain": [
       "<Figure size 700x700 with 1 Axes>"
      ]
     },
     "metadata": {},
     "output_type": "display_data"
    }
   ],
   "source": [
    "plt.figure(figsize=(7,7))\n",
    "plt.plot(train.history['accuracy'])\n",
    "plt.plot(train.history['val_accuracy'])\n",
    "plt.title('ACCURACY CURVE',fontdict={'size':20})\n",
    "plt.show()"
   ]
  },
  {
   "cell_type": "code",
   "execution_count": 63,
   "metadata": {},
   "outputs": [
    {
     "name": "stdout",
     "output_type": "stream",
     "text": [
      "2029/2029 [==============================] - 69s 34ms/step\n",
      "              precision    recall  f1-score   support\n",
      "\n",
      "           0       0.93      0.91      0.92     32442\n",
      "           1       0.91      0.94      0.92     32462\n",
      "\n",
      "    accuracy                           0.92     64904\n",
      "   macro avg       0.92      0.92      0.92     64904\n",
      "weighted avg       0.92      0.92      0.92     64904\n",
      "\n"
     ]
    }
   ],
   "source": [
    "# %%\n",
    "test_predictions = model1.predict(tokens_test)\n",
    "pred = (test_predictions.sum(axis=1)/70 > 0.5).astype(int).flatten()\n",
    "print(classification_report(test_labels, pred))\n"
   ]
  },
  {
   "cell_type": "code",
   "execution_count": null,
   "metadata": {},
   "outputs": [],
   "source": []
  }
 ],
 "metadata": {
  "kernelspec": {
   "display_name": "base",
   "language": "python",
   "name": "python3"
  },
  "language_info": {
   "codemirror_mode": {
    "name": "ipython",
    "version": 3
   },
   "file_extension": ".py",
   "mimetype": "text/x-python",
   "name": "python",
   "nbconvert_exporter": "python",
   "pygments_lexer": "ipython3",
   "version": "3.9.13"
  },
  "orig_nbformat": 4
 },
 "nbformat": 4,
 "nbformat_minor": 2
}
